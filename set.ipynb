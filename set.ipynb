{
  "nbformat": 4,
  "nbformat_minor": 0,
  "metadata": {
    "colab": {
      "provenance": [],
      "authorship_tag": "ABX9TyMD5EQarMsW6jcfFwTDEUML",
      "include_colab_link": true
    },
    "kernelspec": {
      "name": "python3",
      "display_name": "Python 3"
    },
    "language_info": {
      "name": "python"
    }
  },
  "cells": [
    {
      "cell_type": "markdown",
      "metadata": {
        "id": "view-in-github",
        "colab_type": "text"
      },
      "source": [
        "<a href=\"https://colab.research.google.com/github/AJAYMULAKALAPALLI/python/blob/main/Untitled1.ipynb\" target=\"_parent\"><img src=\"https://colab.research.google.com/assets/colab-badge.svg\" alt=\"Open In Colab\"/></a>"
      ]
    },
    {
      "cell_type": "markdown",
      "source": [
        "set"
      ],
      "metadata": {
        "id": "vjvDnWqCTr23"
      }
    },
    {
      "cell_type": "code",
      "source": [
        "a={1,2,3,4}\n",
        "print(type(a))"
      ],
      "metadata": {
        "colab": {
          "base_uri": "https://localhost:8080/"
        },
        "id": "jCOqaZe6Uw1G",
        "outputId": "a935a366-a0f4-4076-88ad-034738cbc35b"
      },
      "execution_count": 1,
      "outputs": [
        {
          "output_type": "stream",
          "name": "stdout",
          "text": [
            "<class 'set'>\n"
          ]
        }
      ]
    },
    {
      "cell_type": "code",
      "source": [
        "a={1,2,3,4}\n",
        "print(a)"
      ],
      "metadata": {
        "colab": {
          "base_uri": "https://localhost:8080/"
        },
        "id": "xMg2Hb52VEbN",
        "outputId": "294c9d9a-f66e-4a94-804d-0b6e80c1c138"
      },
      "execution_count": 2,
      "outputs": [
        {
          "output_type": "stream",
          "name": "stdout",
          "text": [
            "{1, 2, 3, 4}\n"
          ]
        }
      ]
    },
    {
      "cell_type": "markdown",
      "source": [
        "unordered and changable and hetrogenous"
      ],
      "metadata": {
        "id": "AKJY0Q0pVJTT"
      }
    },
    {
      "cell_type": "code",
      "source": [
        "a={1,2,'sai','python',5}\n",
        "a.add('ram')\n",
        "print(a)"
      ],
      "metadata": {
        "colab": {
          "base_uri": "https://localhost:8080/"
        },
        "id": "WTdUCcyPVMa6",
        "outputId": "bf95754a-1eb4-46ac-d2ce-decb8f384b81"
      },
      "execution_count": 8,
      "outputs": [
        {
          "output_type": "stream",
          "name": "stdout",
          "text": [
            "{1, 2, 5, 'ram', 'python', 'sai'}\n"
          ]
        }
      ]
    },
    {
      "cell_type": "markdown",
      "source": [
        "unique"
      ],
      "metadata": {
        "id": "grKUyH1XWDn4"
      }
    },
    {
      "cell_type": "code",
      "source": [
        "a={1,2,'sai','python',5,5,2}\n",
        "print(a)\n"
      ],
      "metadata": {
        "colab": {
          "base_uri": "https://localhost:8080/"
        },
        "id": "mjeVjd3VWGDT",
        "outputId": "9d3a26be-cfa8-4392-cbf2-1e94a90082bb"
      },
      "execution_count": 9,
      "outputs": [
        {
          "output_type": "stream",
          "name": "stdout",
          "text": [
            "{1, 2, 5, 'python', 'sai'}\n"
          ]
        }
      ]
    },
    {
      "cell_type": "markdown",
      "source": [
        "Methods"
      ],
      "metadata": {
        "id": "G6Gjutd-WTNE"
      }
    },
    {
      "cell_type": "markdown",
      "source": [
        "adding methods"
      ],
      "metadata": {
        "id": "UXzywBRqWYIM"
      }
    },
    {
      "cell_type": "markdown",
      "source": [
        "add()"
      ],
      "metadata": {
        "id": "J2iqMWH8Wjxa"
      }
    },
    {
      "cell_type": "code",
      "source": [
        "a={1,2,'sai','python',5}\n",
        "a.add(7)\n",
        "print(a)"
      ],
      "metadata": {
        "colab": {
          "base_uri": "https://localhost:8080/"
        },
        "id": "9Jx9S74KWayI",
        "outputId": "4f427795-38be-4169-b67f-838e46a0ff48"
      },
      "execution_count": 10,
      "outputs": [
        {
          "output_type": "stream",
          "name": "stdout",
          "text": [
            "{1, 2, 5, 7, 'python', 'sai'}\n"
          ]
        }
      ]
    },
    {
      "cell_type": "markdown",
      "source": [
        "copy()"
      ],
      "metadata": {
        "id": "DVeXYDhlWnVN"
      }
    },
    {
      "cell_type": "code",
      "source": [
        "a={1,2,'sai','python',5}\n",
        "b=a.copy()\n",
        "print(b)"
      ],
      "metadata": {
        "colab": {
          "base_uri": "https://localhost:8080/"
        },
        "id": "2TgLMWzzWpBM",
        "outputId": "5d21fed2-221d-4994-95b9-c3f1b0b45b5b"
      },
      "execution_count": 15,
      "outputs": [
        {
          "output_type": "stream",
          "name": "stdout",
          "text": [
            "{1, 2, 5, 'python', 'sai'}\n"
          ]
        }
      ]
    },
    {
      "cell_type": "markdown",
      "source": [
        "removing methods"
      ],
      "metadata": {
        "id": "NND7DDG6XAuj"
      }
    },
    {
      "cell_type": "markdown",
      "source": [
        "pop()"
      ],
      "metadata": {
        "id": "jHKFOlkeXGZU"
      }
    },
    {
      "cell_type": "code",
      "source": [
        "a={1,2,'sai','python',5}\n",
        "a.pop()\n",
        "print(a)"
      ],
      "metadata": {
        "colab": {
          "base_uri": "https://localhost:8080/"
        },
        "id": "19MfO_9iXIso",
        "outputId": "09317ca2-5eff-45bd-86c7-4421c9e3664c"
      },
      "execution_count": 17,
      "outputs": [
        {
          "output_type": "stream",
          "name": "stdout",
          "text": [
            "{2, 5, 'python', 'sai'}\n"
          ]
        }
      ]
    },
    {
      "cell_type": "markdown",
      "source": [
        "remove()"
      ],
      "metadata": {
        "id": "V9S9PJziXS12"
      }
    },
    {
      "cell_type": "code",
      "source": [
        "a={1,2,'sai','python',5}\n",
        "a.remove(2)\n",
        "print(a)"
      ],
      "metadata": {
        "colab": {
          "base_uri": "https://localhost:8080/"
        },
        "id": "EBAFKl5-Xmuu",
        "outputId": "da41bedc-b850-4ba2-d90a-4174e7d3e3a7"
      },
      "execution_count": 19,
      "outputs": [
        {
          "output_type": "stream",
          "name": "stdout",
          "text": [
            "{1, 5, 'python', 'sai'}\n"
          ]
        }
      ]
    },
    {
      "cell_type": "markdown",
      "source": [
        "discard()"
      ],
      "metadata": {
        "id": "vD9odT-UXjwz"
      }
    },
    {
      "cell_type": "code",
      "source": [
        "a={1,2,'sai','python',5}\n",
        "a.discard(2)\n",
        "print(a)"
      ],
      "metadata": {
        "colab": {
          "base_uri": "https://localhost:8080/"
        },
        "id": "1SpTIkeZX7oF",
        "outputId": "4ca409c2-7970-487a-c421-5f2446ffa489"
      },
      "execution_count": 20,
      "outputs": [
        {
          "output_type": "stream",
          "name": "stdout",
          "text": [
            "{1, 5, 'python', 'sai'}\n"
          ]
        }
      ]
    },
    {
      "cell_type": "markdown",
      "source": [
        "clear()"
      ],
      "metadata": {
        "id": "unXHSga3al4o"
      }
    },
    {
      "cell_type": "code",
      "source": [
        "a={1,2,'sai','python',5}\n",
        "a.clear()\n",
        "print(a)"
      ],
      "metadata": {
        "colab": {
          "base_uri": "https://localhost:8080/"
        },
        "id": "Ss4nZIQIaq-r",
        "outputId": "0ba18bfd-a1f7-4d50-c9ce-09d81031b361"
      },
      "execution_count": 21,
      "outputs": [
        {
          "output_type": "stream",
          "name": "stdout",
          "text": [
            "set()\n"
          ]
        }
      ]
    },
    {
      "cell_type": "markdown",
      "source": [
        "mathematical methods"
      ],
      "metadata": {
        "id": "tTTEAF4DaxnC"
      }
    },
    {
      "cell_type": "markdown",
      "source": [
        "union"
      ],
      "metadata": {
        "id": "zRma1D0ca1DF"
      }
    },
    {
      "cell_type": "code",
      "source": [
        "a={1,2,'sai','python',5}\n",
        "b={9,5,7,2}\n",
        "c=a.union(b)\n",
        "print(c)"
      ],
      "metadata": {
        "colab": {
          "base_uri": "https://localhost:8080/"
        },
        "id": "B44tEAX8a2iK",
        "outputId": "e65c96a9-8b75-4412-d86b-4d57c7c8b5b6"
      },
      "execution_count": 22,
      "outputs": [
        {
          "output_type": "stream",
          "name": "stdout",
          "text": [
            "{1, 2, 5, 7, 9, 'python', 'sai'}\n"
          ]
        }
      ]
    },
    {
      "cell_type": "markdown",
      "source": [
        "intersection"
      ],
      "metadata": {
        "id": "240I7NMdbITl"
      }
    },
    {
      "cell_type": "code",
      "source": [
        "a={1,2,'sai','python',5}\n",
        "b={9,5,7,2}\n",
        "c=a.intersection(b)\n",
        "print(c)"
      ],
      "metadata": {
        "colab": {
          "base_uri": "https://localhost:8080/"
        },
        "id": "U2dZT1xnbKRa",
        "outputId": "c0d1e2c7-5369-4c74-8979-1e89dd976f6a"
      },
      "execution_count": 23,
      "outputs": [
        {
          "output_type": "stream",
          "name": "stdout",
          "text": [
            "{2, 5}\n"
          ]
        }
      ]
    },
    {
      "cell_type": "markdown",
      "source": [
        "difference"
      ],
      "metadata": {
        "id": "zQZvLz3jbgG9"
      }
    },
    {
      "cell_type": "code",
      "source": [
        "a={1,2,'sai','python',5}\n",
        "b={9,5,7,2}\n",
        "c=a.difference(b)\n",
        "print(c)"
      ],
      "metadata": {
        "colab": {
          "base_uri": "https://localhost:8080/"
        },
        "id": "SB4vQwBhbhiV",
        "outputId": "f98f9d57-cc11-4a17-f709-9f3f3ddb278e"
      },
      "execution_count": 25,
      "outputs": [
        {
          "output_type": "stream",
          "name": "stdout",
          "text": [
            "{1, 'python', 'sai'}\n"
          ]
        }
      ]
    },
    {
      "cell_type": "markdown",
      "source": [
        "symmetric difference"
      ],
      "metadata": {
        "id": "CDG0Ezfzb535"
      }
    },
    {
      "cell_type": "code",
      "source": [
        "a={1,2,'sai','python',5}\n",
        "b={9,5,7,2}\n",
        "c=a.symmetric_difference(b)\n",
        "print(c)"
      ],
      "metadata": {
        "colab": {
          "base_uri": "https://localhost:8080/"
        },
        "id": "N1vPClZEcB__",
        "outputId": "65de005f-e800-4a92-d1ea-e043490d9fa3"
      },
      "execution_count": 27,
      "outputs": [
        {
          "output_type": "stream",
          "name": "stdout",
          "text": [
            "{1, 7, 9, 'python', 'sai'}\n"
          ]
        }
      ]
    },
    {
      "cell_type": "markdown",
      "source": [
        "set operators"
      ],
      "metadata": {
        "id": "LPmqqqJxcYAd"
      }
    },
    {
      "cell_type": "markdown",
      "source": [
        "|,&,-,^    these are above mathematical operators"
      ],
      "metadata": {
        "id": "vMPfYyiKcblK"
      }
    },
    {
      "cell_type": "markdown",
      "source": [
        "<="
      ],
      "metadata": {
        "id": "fkZTwDP6dFjP"
      }
    },
    {
      "cell_type": "code",
      "source": [
        "a={1,2}\n",
        "b={1,2,3,4}\n",
        "a<=b"
      ],
      "metadata": {
        "colab": {
          "base_uri": "https://localhost:8080/"
        },
        "id": "D4Jnxt1ddF2L",
        "outputId": "9b796aec-b022-47c4-e938-d75eb552b92e"
      },
      "execution_count": 29,
      "outputs": [
        {
          "output_type": "execute_result",
          "data": {
            "text/plain": [
              "True"
            ]
          },
          "metadata": {},
          "execution_count": 29
        }
      ]
    },
    {
      "cell_type": "markdown",
      "source": [
        ">=>"
      ],
      "metadata": {
        "id": "ZZ509LVwdygW"
      }
    },
    {
      "cell_type": "code",
      "source": [
        "a={1,2}\n",
        "b={1,2,3,4}\n",
        "a>=b"
      ],
      "metadata": {
        "colab": {
          "base_uri": "https://localhost:8080/"
        },
        "id": "FrMSXquvdmfK",
        "outputId": "2e477c5c-1b48-4a64-8a6b-edaf2bdba470"
      },
      "execution_count": 30,
      "outputs": [
        {
          "output_type": "execute_result",
          "data": {
            "text/plain": [
              "False"
            ]
          },
          "metadata": {},
          "execution_count": 30
        }
      ]
    },
    {
      "cell_type": "markdown",
      "source": [
        "=="
      ],
      "metadata": {
        "id": "l7OUZPb7d6f8"
      }
    },
    {
      "cell_type": "code",
      "source": [
        "a={1,2}\n",
        "b={1,2,3,4}\n",
        "a==b"
      ],
      "metadata": {
        "colab": {
          "base_uri": "https://localhost:8080/"
        },
        "id": "Dz1I_-o-d8Tr",
        "outputId": "e1ef6731-bf14-409a-a0df-aa57d246d7ed"
      },
      "execution_count": 31,
      "outputs": [
        {
          "output_type": "execute_result",
          "data": {
            "text/plain": [
              "False"
            ]
          },
          "metadata": {},
          "execution_count": 31
        }
      ]
    },
    {
      "cell_type": "markdown",
      "source": [
        "!="
      ],
      "metadata": {
        "id": "4ttzck0xd_a-"
      }
    },
    {
      "cell_type": "code",
      "source": [
        "a={1,2}\n",
        "b={1,2,3,4}\n",
        "a!=b"
      ],
      "metadata": {
        "colab": {
          "base_uri": "https://localhost:8080/"
        },
        "id": "ch-hMGt6eBfI",
        "outputId": "a599cf3c-824f-4eed-f7f6-74dd6e19ebaa"
      },
      "execution_count": 32,
      "outputs": [
        {
          "output_type": "execute_result",
          "data": {
            "text/plain": [
              "True"
            ]
          },
          "metadata": {},
          "execution_count": 32
        }
      ]
    },
    {
      "cell_type": "markdown",
      "source": [
        "in"
      ],
      "metadata": {
        "id": "0N6w8Hf3eHmw"
      }
    },
    {
      "cell_type": "code",
      "source": [
        "a={1,2}\n",
        "b={1,2,3,4}\n",
        "1 in b"
      ],
      "metadata": {
        "colab": {
          "base_uri": "https://localhost:8080/"
        },
        "id": "w5bSA5N7eI9G",
        "outputId": "07d32b12-9024-4adc-cab1-09c5590a6b79"
      },
      "execution_count": 33,
      "outputs": [
        {
          "output_type": "execute_result",
          "data": {
            "text/plain": [
              "True"
            ]
          },
          "metadata": {},
          "execution_count": 33
        }
      ]
    },
    {
      "cell_type": "markdown",
      "source": [
        "not in"
      ],
      "metadata": {
        "id": "LexofDjzeQLf"
      }
    },
    {
      "cell_type": "code",
      "source": [
        "a={1,2}\n",
        "b={1,2,3,4}\n",
        "1 not in b"
      ],
      "metadata": {
        "colab": {
          "base_uri": "https://localhost:8080/"
        },
        "id": "IO8_5d98eRuv",
        "outputId": "62203bf5-85ef-4ec0-880a-4a3f86643de1"
      },
      "execution_count": 34,
      "outputs": [
        {
          "output_type": "execute_result",
          "data": {
            "text/plain": [
              "False"
            ]
          },
          "metadata": {},
          "execution_count": 34
        }
      ]
    }
  ]
}
