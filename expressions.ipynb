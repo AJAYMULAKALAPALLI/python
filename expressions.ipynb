{
  "nbformat": 4,
  "nbformat_minor": 0,
  "metadata": {
    "colab": {
      "provenance": [],
      "authorship_tag": "ABX9TyPyjk8Rd6Uyy3kwNPgmF471",
      "include_colab_link": true
    },
    "kernelspec": {
      "name": "python3",
      "display_name": "Python 3"
    },
    "language_info": {
      "name": "python"
    }
  },
  "cells": [
    {
      "cell_type": "markdown",
      "metadata": {
        "id": "view-in-github",
        "colab_type": "text"
      },
      "source": [
        "<a href=\"https://colab.research.google.com/github/AJAYMULAKALAPALLI/python/blob/main/expressions.ipynb\" target=\"_parent\"><img src=\"https://colab.research.google.com/assets/colab-badge.svg\" alt=\"Open In Colab\"/></a>"
      ]
    },
    {
      "cell_type": "markdown",
      "source": [
        "SECTION 4 (EXPRESSIONS)\n",
        "area of an rectangle"
      ],
      "metadata": {
        "id": "wYQfswrnmLI9"
      }
    },
    {
      "cell_type": "code",
      "source": [
        "length=int(input(\"enter length of an rectangle\"))\n",
        "breadth=int(input(\"enter breadth of an rectangle\"))\n",
        "area=length*breadth\n",
        "print(area)"
      ],
      "metadata": {
        "colab": {
          "base_uri": "https://localhost:8080/"
        },
        "id": "D0lkmh_UmR4B",
        "outputId": "288162db-af87-4435-f25e-a71caa84d897"
      },
      "execution_count": 1,
      "outputs": [
        {
          "output_type": "stream",
          "name": "stdout",
          "text": [
            "enter length of an rectangle2\n",
            "enter breadth of an rectangle2\n",
            "4\n"
          ]
        }
      ]
    },
    {
      "cell_type": "markdown",
      "source": [
        "area of triangle"
      ],
      "metadata": {
        "id": "pz22IajBmcct"
      }
    },
    {
      "cell_type": "code",
      "source": [
        "base=int(input(\"enter length of an base\"))\n",
        "height=int(input(\"enter breadth of an height\"))\n",
        "area=1/2*base*height\n",
        "print(area)\n"
      ],
      "metadata": {
        "colab": {
          "base_uri": "https://localhost:8080/"
        },
        "id": "3J6SPUVOmjaL",
        "outputId": "f29c4cfc-4fb0-4ef8-c67c-8cf254d6156d"
      },
      "execution_count": 2,
      "outputs": [
        {
          "output_type": "stream",
          "name": "stdout",
          "text": [
            "enter length of an base2\n",
            "enter breadth of an height2\n",
            "2.0\n"
          ]
        }
      ]
    },
    {
      "cell_type": "markdown",
      "source": [
        "km2miles"
      ],
      "metadata": {
        "id": "pEmZ1md3mo7S"
      }
    },
    {
      "cell_type": "code",
      "source": [
        "km=int(input(\"enter length of an km\"))\n",
        "miles=km*0.621371\n",
        "print(miles)"
      ],
      "metadata": {
        "colab": {
          "base_uri": "https://localhost:8080/"
        },
        "id": "tc4ousu9mrMo",
        "outputId": "05db6eda-c5b4-44c3-8dea-fa77a93f2b18"
      },
      "execution_count": 3,
      "outputs": [
        {
          "output_type": "stream",
          "name": "stdout",
          "text": [
            "enter length of an km10\n",
            "6.21371\n"
          ]
        }
      ]
    },
    {
      "cell_type": "markdown",
      "source": [
        "area of circle"
      ],
      "metadata": {
        "id": "rZyM8ls0mu-y"
      }
    },
    {
      "cell_type": "code",
      "source": [
        "import math\n",
        "radius=int(input(\"enter radius of circle\"))\n",
        "area=math.pi*radius*radius\n",
        "print(area)"
      ],
      "metadata": {
        "colab": {
          "base_uri": "https://localhost:8080/"
        },
        "id": "s38eqa8MmyDA",
        "outputId": "0fbe0388-f3ab-4f95-c212-ba312234b977"
      },
      "execution_count": 4,
      "outputs": [
        {
          "output_type": "stream",
          "name": "stdout",
          "text": [
            "enter radius of circle2\n",
            "12.566370614359172\n"
          ]
        }
      ]
    }
  ]
}