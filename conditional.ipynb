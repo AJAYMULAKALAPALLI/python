{
  "nbformat": 4,
  "nbformat_minor": 0,
  "metadata": {
    "colab": {
      "provenance": [],
      "authorship_tag": "ABX9TyMSboxg5K1x4ACAESDiPubY",
      "include_colab_link": true
    },
    "kernelspec": {
      "name": "python3",
      "display_name": "Python 3"
    },
    "language_info": {
      "name": "python"
    }
  },
  "cells": [
    {
      "cell_type": "markdown",
      "metadata": {
        "id": "view-in-github",
        "colab_type": "text"
      },
      "source": [
        "<a href=\"https://colab.research.google.com/github/AJAYMULAKALAPALLI/python/blob/main/conditional.ipynb\" target=\"_parent\"><img src=\"https://colab.research.google.com/assets/colab-badge.svg\" alt=\"Open In Colab\"/></a>"
      ]
    },
    {
      "cell_type": "markdown",
      "source": [
        "section 5\n",
        "conditional statements"
      ],
      "metadata": {
        "id": "b05fZkDgJEph"
      }
    },
    {
      "cell_type": "markdown",
      "source": [
        "if else"
      ],
      "metadata": {
        "id": "YXo4BhCxJZzp"
      }
    },
    {
      "cell_type": "code",
      "source": [
        "a=int(input(\"enter a number\"))\n",
        "if (a<0):\n",
        " print(\"negitive\")\n",
        "else:\n",
        " print(\"positive\")"
      ],
      "metadata": {
        "colab": {
          "base_uri": "https://localhost:8080/"
        },
        "id": "t8PAz1Q_JUsV",
        "outputId": "02e49ae5-8c12-4b10-da87-816a28e8ab20"
      },
      "execution_count": 4,
      "outputs": [
        {
          "output_type": "stream",
          "name": "stdout",
          "text": [
            "enter a number4\n",
            "positive\n"
          ]
        }
      ]
    },
    {
      "cell_type": "markdown",
      "source": [
        "finding difference between two numbers"
      ],
      "metadata": {
        "id": "UZsAJ35_U1LZ"
      }
    },
    {
      "cell_type": "code",
      "source": [
        "a=int(input(\"enter a number\"))\n",
        "b=int(input(\"enter a number\"))\n",
        "if(a-b>0):\n",
        "  print(\"a-b\")\n",
        "else:\n",
        "    print(\"b-a\")"
      ],
      "metadata": {
        "colab": {
          "base_uri": "https://localhost:8080/"
        },
        "id": "KE-GU6NHU81D",
        "outputId": "702cf723-14c7-4ffa-9c2b-f0103e68f48e"
      },
      "execution_count": 7,
      "outputs": [
        {
          "output_type": "stream",
          "name": "stdout",
          "text": [
            "enter a number4\n",
            "enter a number2\n",
            "a-b\n"
          ]
        }
      ]
    },
    {
      "cell_type": "markdown",
      "source": [
        "check a number is even or odd"
      ],
      "metadata": {
        "id": "ZUv4YI-TVpYe"
      }
    },
    {
      "cell_type": "code",
      "source": [
        "a=int(input(\"enter a number\"))\n",
        "if(a%2==0):\n",
        "  print(\"even\")\n",
        "else:\n",
        "  print(\"odd\")"
      ],
      "metadata": {
        "colab": {
          "base_uri": "https://localhost:8080/"
        },
        "id": "O4n3Hc7ZVcNC",
        "outputId": "8c036dda-93b8-45b6-cbca-be88fcdd48a5"
      },
      "execution_count": 10,
      "outputs": [
        {
          "output_type": "stream",
          "name": "stdout",
          "text": [
            "enter a number3\n",
            "odd\n"
          ]
        }
      ]
    },
    {
      "cell_type": "markdown",
      "source": [
        "check age eligibility for casting vote"
      ],
      "metadata": {
        "id": "-p1UvBGCWHOk"
      }
    },
    {
      "cell_type": "code",
      "source": [
        "age=int(input(\"enter age\"))\n",
        "if(age>18):\n",
        "  print(\"eligible for voting\")\n",
        "else:\n",
        "  print(\"not eligible for voting\")"
      ],
      "metadata": {
        "colab": {
          "base_uri": "https://localhost:8080/"
        },
        "id": "sACqouHZV_aH",
        "outputId": "b8eb6df6-5eff-4655-db96-bc8f1a2e01b1"
      },
      "execution_count": 11,
      "outputs": [
        {
          "output_type": "stream",
          "name": "stdout",
          "text": [
            "enter age50\n",
            "eligible for voting\n"
          ]
        }
      ]
    },
    {
      "cell_type": "markdown",
      "source": [
        "marks with in range"
      ],
      "metadata": {
        "id": "WG8QpqIYXM_W"
      }
    },
    {
      "cell_type": "code",
      "source": [
        "marks=int(input(\"enter marks\"))\n",
        "if(marks>=0 and marks<=100):\n",
        "  print(\"valid\")\n",
        "else:\n",
        "  print(\"invalid\")"
      ],
      "metadata": {
        "colab": {
          "base_uri": "https://localhost:8080/"
        },
        "id": "_hGyWfOSXP1L",
        "outputId": "33c2f457-8f8f-4c13-a2cb-6d2261123297"
      },
      "execution_count": 12,
      "outputs": [
        {
          "output_type": "stream",
          "name": "stdout",
          "text": [
            "enter marks101\n",
            "invalid\n"
          ]
        }
      ]
    },
    {
      "cell_type": "markdown",
      "source": [
        "male or female"
      ],
      "metadata": {
        "id": "7RZ9FKPkccQ6"
      }
    },
    {
      "cell_type": "code",
      "source": [
        "gender = input('Enter Gender')\n",
        "\n",
        "if gender=='m' or gender=='M':\n",
        "    print('Male')\n",
        "else:\n",
        "    print('Female')"
      ],
      "metadata": {
        "colab": {
          "base_uri": "https://localhost:8080/"
        },
        "id": "4de7ySY8ceEG",
        "outputId": "3395bba9-21be-4428-8814-71facc51b875"
      },
      "execution_count": 15,
      "outputs": [
        {
          "output_type": "stream",
          "name": "stdout",
          "text": [
            "Enter Genderk\n",
            "Female\n"
          ]
        }
      ]
    },
    {
      "cell_type": "markdown",
      "source": [
        "check person eligible to work"
      ],
      "metadata": {
        "id": "G3yCeyTVYhD0"
      }
    },
    {
      "cell_type": "code",
      "source": [
        "age=int(input(\"enter age\"))\n",
        "if(age>=18 and age<=60):\n",
        "  print(\"eligible to work\")\n",
        "else:\n",
        "  print(\"not eligible to work\")"
      ],
      "metadata": {
        "colab": {
          "base_uri": "https://localhost:8080/"
        },
        "id": "3vl-B24PYom4",
        "outputId": "b4b86129-84f2-416e-de88-70ff56fc4a9b"
      },
      "execution_count": 14,
      "outputs": [
        {
          "output_type": "stream",
          "name": "stdout",
          "text": [
            "enter age15\n",
            "not eligible to work\n"
          ]
        }
      ]
    },
    {
      "cell_type": "markdown",
      "source": [
        "student pass or fail"
      ],
      "metadata": {
        "id": "tmOq-Gwyc1ZR"
      }
    },
    {
      "cell_type": "code",
      "source": [
        "math = int(input('Enter Maths Marks'))\n",
        "phy = int(input('Enter Physics Marks'))\n",
        "chem = int(input('Enter Chemestry Marks'))\n",
        "\n",
        "if math >= 45 and phy >= 45 and chem >= 45:\n",
        "    print('Passed')\n",
        "else:\n",
        "    print('Failed')"
      ],
      "metadata": {
        "colab": {
          "base_uri": "https://localhost:8080/"
        },
        "id": "5Ewcz7ahc2FW",
        "outputId": "b3d174e0-8187-4840-e9e1-f4315a8d93ab"
      },
      "execution_count": 16,
      "outputs": [
        {
          "output_type": "stream",
          "name": "stdout",
          "text": [
            "Enter Maths Marks67\n",
            "Enter Physics Marks98\n",
            "Enter Chemestry Marks56\n",
            "Passed\n"
          ]
        }
      ]
    },
    {
      "cell_type": "markdown",
      "source": [
        "person authorise for admin access"
      ],
      "metadata": {
        "id": "TUxe2rWqdrqO"
      }
    },
    {
      "cell_type": "code",
      "source": [
        "username = input('Enter Username')\n",
        "\n",
        "if username=='john' or username=='smith':\n",
        "    print('Authorised')\n",
        "else:\n",
        "    print('Not Authorised')\n"
      ],
      "metadata": {
        "colab": {
          "base_uri": "https://localhost:8080/"
        },
        "id": "EVdoFa-9dsIG",
        "outputId": "d242a285-c2e5-4f6c-f95c-186ecdb73fc6"
      },
      "execution_count": 18,
      "outputs": [
        {
          "output_type": "stream",
          "name": "stdout",
          "text": [
            "Enter Usernamesai\n",
            "Not Authorised\n"
          ]
        }
      ]
    },
    {
      "cell_type": "markdown",
      "source": [
        "vowel or consonent"
      ],
      "metadata": {
        "id": "RiwKSwk2dnfV"
      }
    },
    {
      "cell_type": "code",
      "source": [
        "ch = input('Enter a lower case letter')\n",
        "\n",
        "if ch == 'a' or ch == 'e' or ch == 'i' or ch == 'o' or ch == 'u' or ch == 'A':\n",
        "    print('Vowel')\n",
        "else:\n",
        "    print('Consonant')"
      ],
      "metadata": {
        "colab": {
          "base_uri": "https://localhost:8080/"
        },
        "id": "hOsMCjTEdnwx",
        "outputId": "c9d6a17a-ca74-4dc6-ed98-6681d20ae764"
      },
      "execution_count": 17,
      "outputs": [
        {
          "output_type": "stream",
          "name": "stdout",
          "text": [
            "Enter a lower case letterh\n",
            "Consonant\n"
          ]
        }
      ]
    },
    {
      "cell_type": "markdown",
      "source": [
        "calculate discounted amount"
      ],
      "metadata": {
        "id": "s-kJxhQFmpWK"
      }
    },
    {
      "cell_type": "code",
      "source": [
        "amount=int(input(\"enter amount\"))\n",
        "if(amount<=1000):\n",
        "  discount=amount*10/100\n",
        "elif (1000<amount and amount<=5000):\n",
        "  discount=amount*20/100\n",
        "elif (5000<amount and amount<=10000):\n",
        "  discount=amount*30/100\n",
        "else:\n",
        "  discount=amount*50/100\n",
        "\n",
        "discountedamount=amount-discount\n",
        "print(discountedamount )"
      ],
      "metadata": {
        "colab": {
          "base_uri": "https://localhost:8080/"
        },
        "id": "Srh8CYwqmuvD",
        "outputId": "af1b9e67-1424-4804-df93-9e3ca91d920b"
      },
      "execution_count": 25,
      "outputs": [
        {
          "output_type": "stream",
          "name": "stdout",
          "text": [
            "enter amount500\n",
            "450.0\n"
          ]
        }
      ]
    },
    {
      "cell_type": "markdown",
      "source": [
        "take a day number and display day name"
      ],
      "metadata": {
        "id": "9ssZE13U7gSF"
      }
    },
    {
      "cell_type": "code",
      "source": [
        "day = int(input('Enter Day Number'))\n",
        "\n",
        "if day == 1:\n",
        "    print('Sunday')\n",
        "elif day == 2:\n",
        "    print('Monday')\n",
        "elif day == 3:\n",
        "    print('Tuesday')\n",
        "elif day == 4:\n",
        "    print('Wednesday')\n",
        "elif day == 5:\n",
        "    print('Thursday')\n",
        "elif day == 6:\n",
        "    print('Friday')\n",
        "elif day == 7:\n",
        "    print('Saturday')\n",
        "else:\n",
        "    print('Invalid Day Number')"
      ],
      "metadata": {
        "colab": {
          "base_uri": "https://localhost:8080/"
        },
        "id": "ixd45Qb37lqp",
        "outputId": "ea337611-5d9f-412b-8048-206a603541b4"
      },
      "execution_count": 16,
      "outputs": [
        {
          "output_type": "stream",
          "name": "stdout",
          "text": [
            "Enter Day Number9\n",
            "Invalid Day Number\n"
          ]
        }
      ]
    },
    {
      "cell_type": "markdown",
      "source": [
        "check wheather a year is a leap year or not"
      ],
      "metadata": {
        "id": "xIYd3EvS_TDT"
      }
    },
    {
      "cell_type": "code",
      "source": [
        "year=int(input(\"enter a year\"))\n",
        "if year%100==0:\n",
        "  if year%400==0:\n",
        "    print(\"leap year\")\n",
        "  else:\n",
        "    print(\"not a leap year\")\n",
        "elif year%4==0:\n",
        "  print(\"leap year\")\n",
        "else:\n",
        "  print(\"not a leap year\")"
      ],
      "metadata": {
        "colab": {
          "base_uri": "https://localhost:8080/"
        },
        "id": "2f5Efjrr_Y0L",
        "outputId": "0235672c-031c-4d28-d0d3-c6ed8db8a61a"
      },
      "execution_count": 17,
      "outputs": [
        {
          "output_type": "stream",
          "name": "stdout",
          "text": [
            "enter a year2023\n",
            "not a leap year\n"
          ]
        }
      ]
    }
  ]
}