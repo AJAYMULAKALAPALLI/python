{
  "nbformat": 4,
  "nbformat_minor": 0,
  "metadata": {
    "colab": {
      "provenance": [],
      "authorship_tag": "ABX9TyPWmo8aKq/B4ncPLJsgI6wU",
      "include_colab_link": true
    },
    "kernelspec": {
      "name": "python3",
      "display_name": "Python 3"
    },
    "language_info": {
      "name": "python"
    }
  },
  "cells": [
    {
      "cell_type": "markdown",
      "metadata": {
        "id": "view-in-github",
        "colab_type": "text"
      },
      "source": [
        "<a href=\"https://colab.research.google.com/github/AJAYMULAKALAPALLI/python/blob/main/threadnew.ipynb\" target=\"_parent\"><img src=\"https://colab.research.google.com/assets/colab-badge.svg\" alt=\"Open In Colab\"/></a>"
      ]
    },
    {
      "cell_type": "markdown",
      "source": [
        "threads"
      ],
      "metadata": {
        "id": "UydN_jkScQfk"
      }
    },
    {
      "cell_type": "markdown",
      "source": [
        "ways of thread creation"
      ],
      "metadata": {
        "id": "iBkwGsHacXuE"
      }
    },
    {
      "cell_type": "markdown",
      "source": [
        "using function method"
      ],
      "metadata": {
        "id": "q7ffQKK8cdhq"
      }
    },
    {
      "cell_type": "code",
      "source": [
        "from threading import*\n",
        "from time import*\n",
        "def dispaly():\n",
        "  for i in range(65,91):\n",
        "    print(chr(i))\n",
        "\n",
        "t=Thread(target=display,name='Alphabets')\n",
        "t.start()\n",
        "for i in range(65,91):\n",
        "  print(i)\n",
        "  sleep(0.1)\n",
        "t.join()"
      ],
      "metadata": {
        "id": "Nw8d4g8wjP8z",
        "colab": {
          "base_uri": "https://localhost:8080/"
        },
        "outputId": "2a0d4952-2513-429f-a18d-e10eebdd6a0c"
      },
      "execution_count": 11,
      "outputs": [
        {
          "output_type": "stream",
          "name": "stdout",
          "text": [
            "65\n",
            "66\n",
            "67\n",
            "68\n",
            "69\n",
            "70\n",
            "71\n",
            "72\n",
            "73\n",
            "74\n",
            "75\n",
            "76\n",
            "77\n",
            "78\n",
            "79\n",
            "80\n",
            "81\n",
            "82\n",
            "83\n",
            "84\n",
            "85\n",
            "86\n",
            "87\n",
            "88\n",
            "89\n",
            "90\n"
          ]
        }
      ]
    },
    {
      "cell_type": "markdown",
      "source": [
        "using a class"
      ],
      "metadata": {
        "id": "ugmoMQE3exZj"
      }
    },
    {
      "cell_type": "code",
      "source": [
        "from threading import *\n",
        "from time import *\n",
        "class alphabet(Thread):\n",
        "  def run(self):\n",
        "    for i in range(65,91):\n",
        "      print(chr(i))\n",
        "\n",
        "t=alphabet()\n",
        "t.start()\n",
        "for i in range(65,91):\n",
        "  print(i)\n",
        "t.join()"
      ],
      "metadata": {
        "colab": {
          "base_uri": "https://localhost:8080/"
        },
        "id": "x_19iiv24CvH",
        "outputId": "9e16ff97-a167-4b1d-b108-5bd337207edd"
      },
      "execution_count": 12,
      "outputs": [
        {
          "output_type": "stream",
          "name": "stdout",
          "text": [
            "A65\n",
            "66\n",
            "67\n",
            "68\n",
            "69\n",
            "70\n",
            "71\n",
            "72\n",
            "73\n",
            "74\n",
            "75\n",
            "76\n",
            "77\n",
            "78\n",
            "79\n",
            "80\n",
            "81\n",
            "82\n",
            "83\n",
            "84\n",
            "85\n",
            "86\n",
            "87\n",
            "88\n",
            "89\n",
            "90\n",
            "\n",
            "B\n",
            "C\n",
            "D\n",
            "E\n",
            "F\n",
            "G\n",
            "H\n",
            "I\n",
            "J\n",
            "K\n",
            "L\n",
            "M\n",
            "N\n",
            "O\n",
            "P\n",
            "Q\n",
            "R\n",
            "S\n",
            "T\n",
            "U\n",
            "V\n",
            "W\n",
            "X\n",
            "Y\n",
            "Z\n"
          ]
        }
      ]
    },
    {
      "cell_type": "markdown",
      "source": [
        "race condition"
      ],
      "metadata": {
        "id": "b5SNS6ms4M02"
      }
    },
    {
      "cell_type": "markdown",
      "source": [
        "mutex condition"
      ],
      "metadata": {
        "id": "VBnG5Nqr4PQ-"
      }
    },
    {
      "cell_type": "code",
      "source": [
        "from threading import *\n",
        "from time import *\n",
        "\n",
        "def ajay(str1):\n",
        "  l.acquire()\n",
        "  for x in str1:\n",
        "    print(x)\n",
        "  l.release()\n",
        "\n",
        "l=Lock()\n",
        "\n",
        "\n",
        "t1=Thread(target=ajay, args=('hello world',))\n",
        "t2=Thread(target=ajay, args=('you are welcome',))\n",
        "\n",
        "t1.start()\n",
        "t2.start()\n",
        "\n",
        "t1.join()\n",
        "t2.join()"
      ],
      "metadata": {
        "colab": {
          "base_uri": "https://localhost:8080/"
        },
        "id": "h2WIIkMP4Ttv",
        "outputId": "03893cef-2a4c-4645-80aa-b22a57c33f57"
      },
      "execution_count": 28,
      "outputs": [
        {
          "output_type": "stream",
          "name": "stdout",
          "text": [
            "h\n",
            "e\n",
            "l\n",
            "l\n",
            "o\n",
            " \n",
            "w\n",
            "o\n",
            "r\n",
            "l\n",
            "d\n",
            "y\n",
            "o\n",
            "u\n",
            " \n",
            "a\n",
            "r\n",
            "e\n",
            " \n",
            "w\n",
            "e\n",
            "l\n",
            "c\n",
            "o\n",
            "m\n",
            "e\n"
          ]
        }
      ]
    },
    {
      "cell_type": "markdown",
      "source": [
        "semaphore()"
      ],
      "metadata": {
        "id": "TCC2LtPlAlv1"
      }
    },
    {
      "cell_type": "markdown",
      "source": [
        "allowing one thread"
      ],
      "metadata": {
        "id": "HkVv69lsEUKo"
      }
    },
    {
      "cell_type": "code",
      "source": [
        "from threading import *\n",
        "from time import *\n",
        "\n",
        "def ajay(str1):\n",
        "  l.acquire()\n",
        "  for x in str1:\n",
        "    print(x)\n",
        "  l.release()\n",
        "\n",
        "l=Semaphore(1)\n",
        "\n",
        "\n",
        "t1=Thread(target=ajay, args=('hello world',))\n",
        "t2=Thread(target=ajay, args=('you are welcome',))\n",
        "\n",
        "t1.start()\n",
        "t2.start()\n",
        "\n",
        "t1.join()\n",
        "t2.join()"
      ],
      "metadata": {
        "colab": {
          "base_uri": "https://localhost:8080/"
        },
        "id": "2WTVeI79AqK1",
        "outputId": "1d1b7a90-7996-4548-f209-9f87f8bdde70"
      },
      "execution_count": 29,
      "outputs": [
        {
          "output_type": "stream",
          "name": "stdout",
          "text": [
            "h\n",
            "e\n",
            "l\n",
            "l\n",
            "o\n",
            " \n",
            "w\n",
            "o\n",
            "r\n",
            "l\n",
            "d\n",
            "y\n",
            "o\n",
            "u\n",
            " \n",
            "a\n",
            "r\n",
            "e\n",
            " \n",
            "w\n",
            "e\n",
            "l\n",
            "c\n",
            "o\n",
            "m\n",
            "e\n"
          ]
        }
      ]
    },
    {
      "cell_type": "markdown",
      "source": [
        "allowing 2 threads"
      ],
      "metadata": {
        "id": "D0BAfm2qEYBo"
      }
    },
    {
      "cell_type": "code",
      "source": [
        "from threading import *\n",
        "from time import *\n",
        "\n",
        "def ajay(str1):\n",
        "  l.acquire()\n",
        "  for x in str1:\n",
        "    print(x)\n",
        "  l.release()\n",
        "\n",
        "l=Semaphore(2)\n",
        "\n",
        "\n",
        "t1=Thread(target=ajay, args=('hello world',))\n",
        "t2=Thread(target=ajay, args=('you are welcome',))\n",
        "t3=Thread(target=ajay,args=('1234567',))\n",
        "\n",
        "t1.start()\n",
        "t2.start()\n",
        "t3.start()\n",
        "\n",
        "t1.join()\n",
        "t2.join()\n",
        "t3.join()"
      ],
      "metadata": {
        "colab": {
          "base_uri": "https://localhost:8080/"
        },
        "id": "cqsi6obsEanz",
        "outputId": "09abe788-319d-48f9-d235-4404d3c233b4"
      },
      "execution_count": 3,
      "outputs": [
        {
          "output_type": "stream",
          "name": "stdout",
          "text": [
            "hy\n",
            "o\n",
            "u\n",
            " \n",
            "a\n",
            "r\n",
            "e\n",
            " \n",
            "\n",
            "e\n",
            "l\n",
            "l\n",
            "o\n",
            " \n",
            "w\n",
            "o\n",
            "r\n",
            "l\n",
            "d\n",
            "w\n",
            "e\n",
            "l\n",
            "c\n",
            "o\n",
            "m\n",
            "e\n",
            "1\n",
            "2\n",
            "3\n",
            "4\n",
            "5\n",
            "6\n",
            "7\n"
          ]
        }
      ]
    }
  ]
}