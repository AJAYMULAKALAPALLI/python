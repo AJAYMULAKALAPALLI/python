{
  "nbformat": 4,
  "nbformat_minor": 0,
  "metadata": {
    "colab": {
      "provenance": [],
      "authorship_tag": "ABX9TyMozg5hqx6ZZAAWQt9a9cxB",
      "include_colab_link": true
    },
    "kernelspec": {
      "name": "python3",
      "display_name": "Python 3"
    },
    "language_info": {
      "name": "python"
    }
  },
  "cells": [
    {
      "cell_type": "markdown",
      "metadata": {
        "id": "view-in-github",
        "colab_type": "text"
      },
      "source": [
        "<a href=\"https://colab.research.google.com/github/AJAYMULAKALAPALLI/python/blob/main/functions.ipynb\" target=\"_parent\"><img src=\"https://colab.research.google.com/assets/colab-badge.svg\" alt=\"Open In Colab\"/></a>"
      ]
    },
    {
      "cell_type": "markdown",
      "source": [
        "adding three numbers using function"
      ],
      "metadata": {
        "id": "l8oq8yCyxKVf"
      }
    },
    {
      "cell_type": "code",
      "source": [
        "def add(a,b,c):\n",
        "  d=a+b+c\n",
        "  print(d)\n",
        "add(1,2,3)"
      ],
      "metadata": {
        "colab": {
          "base_uri": "https://localhost:8080/"
        },
        "id": "9AsAgTurxXKT",
        "outputId": "5c51ccb4-138a-4038-bfc0-4c8f6d24798a"
      },
      "execution_count": 2,
      "outputs": [
        {
          "output_type": "stream",
          "name": "stdout",
          "text": [
            "6\n"
          ]
        }
      ]
    },
    {
      "cell_type": "markdown",
      "source": [
        "positional parameter"
      ],
      "metadata": {
        "id": "IBsGP2Irzj8R"
      }
    },
    {
      "cell_type": "code",
      "source": [
        "def net_sal(basic,allowance,deduction):\n",
        "  sal=basic+allowance+deduction\n",
        "  print(sal)\n",
        "net_sal(8000,6000,2000)\n"
      ],
      "metadata": {
        "colab": {
          "base_uri": "https://localhost:8080/"
        },
        "id": "Cp3ccw0Izoxj",
        "outputId": "98c58ca3-c469-4ddf-d966-2a2681a65900"
      },
      "execution_count": 3,
      "outputs": [
        {
          "output_type": "stream",
          "name": "stdout",
          "text": [
            "16000\n"
          ]
        }
      ]
    },
    {
      "cell_type": "markdown",
      "source": [
        "keyword argument"
      ],
      "metadata": {
        "id": "S9UUqalIzkyh"
      }
    },
    {
      "cell_type": "code",
      "source": [
        "def net_sal(basic,allowance,deduction):\n",
        "  sal=basic+allowance+deduction\n",
        "  print(sal)\n",
        "net_sal(basic=8000,allowance=6000,deduction=2000)"
      ],
      "metadata": {
        "colab": {
          "base_uri": "https://localhost:8080/"
        },
        "id": "eWoWi-Tp0Qca",
        "outputId": "f6524965-da74-4477-ab3a-b47dc1e31cf5"
      },
      "execution_count": 4,
      "outputs": [
        {
          "output_type": "stream",
          "name": "stdout",
          "text": [
            "16000\n"
          ]
        }
      ]
    },
    {
      "cell_type": "markdown",
      "source": [
        "positional and keyword"
      ],
      "metadata": {
        "id": "qAweW_EN0a0Q"
      }
    },
    {
      "cell_type": "code",
      "source": [
        "def net_sal(basic,allowance,deduction):\n",
        "  sal=basic+allowance+deduction\n",
        "  print(sal)\n",
        "net_sal(basic=8000,6000,2000)"
      ],
      "metadata": {
        "colab": {
          "base_uri": "https://localhost:8080/",
          "height": 144
        },
        "id": "nell-a_P0eXJ",
        "outputId": "a617ee14-f843-452e-deb8-d56aff16b1f4"
      },
      "execution_count": 5,
      "outputs": [
        {
          "output_type": "error",
          "ename": "SyntaxError",
          "evalue": "ignored",
          "traceback": [
            "\u001b[0;36m  File \u001b[0;32m\"<ipython-input-5-012b7c975847>\"\u001b[0;36m, line \u001b[0;32m4\u001b[0m\n\u001b[0;31m    net_sal(basic=8000,6000,2000)\u001b[0m\n\u001b[0m                                ^\u001b[0m\n\u001b[0;31mSyntaxError\u001b[0m\u001b[0;31m:\u001b[0m positional argument follows keyword argument\n"
          ]
        }
      ]
    },
    {
      "cell_type": "markdown",
      "source": [
        "default arguments"
      ],
      "metadata": {
        "id": "SE_Kgwfv4iHu"
      }
    },
    {
      "cell_type": "code",
      "source": [
        "def add(a,b=0,c=0):\n",
        "  print(a+b+c)\n",
        "add(3,5)"
      ],
      "metadata": {
        "colab": {
          "base_uri": "https://localhost:8080/"
        },
        "id": "q3sCyEqZe2Az",
        "outputId": "77879844-838b-46cc-8d47-f6d995647390"
      },
      "execution_count": 3,
      "outputs": [
        {
          "output_type": "stream",
          "name": "stdout",
          "text": [
            "8\n"
          ]
        }
      ]
    },
    {
      "cell_type": "markdown",
      "source": [
        "mixed positional and keyword"
      ],
      "metadata": {
        "id": "kpdeirEaj5w4"
      }
    },
    {
      "cell_type": "code",
      "source": [
        "def fun(a,b,/,c,d,*,e,f):\n",
        "  print(a)\n",
        "fun(1,2,3,4,e=1,f=0)"
      ],
      "metadata": {
        "colab": {
          "base_uri": "https://localhost:8080/"
        },
        "id": "t2FKxHlkj_bV",
        "outputId": "504d0bb3-b944-4537-9c61-b2f9b20da256"
      },
      "execution_count": 8,
      "outputs": [
        {
          "output_type": "stream",
          "name": "stdout",
          "text": [
            "1\n"
          ]
        }
      ]
    },
    {
      "cell_type": "markdown",
      "source": [
        "variable  length positional arguments"
      ],
      "metadata": {
        "id": "P_aBIXJIk9Om"
      }
    },
    {
      "cell_type": "code",
      "source": [
        "def fun(*a):\n",
        " print(a)\n",
        "fun(1,2,3,3)"
      ],
      "metadata": {
        "colab": {
          "base_uri": "https://localhost:8080/"
        },
        "id": "dzdCOK-PlCWx",
        "outputId": "d2a6df40-a9bd-4090-aba0-6ea0a75e6da8"
      },
      "execution_count": 10,
      "outputs": [
        {
          "output_type": "stream",
          "name": "stdout",
          "text": [
            "(1, 2, 3, 3)\n"
          ]
        }
      ]
    },
    {
      "cell_type": "markdown",
      "source": [
        "unpacking arguments"
      ],
      "metadata": {
        "id": "u9uYtiYelNc_"
      }
    },
    {
      "cell_type": "code",
      "source": [
        "def fun(a,b,c):\n",
        "  print(a,b,c)\n",
        "L1=[1,3,4]\n",
        "fun(*L1)"
      ],
      "metadata": {
        "colab": {
          "base_uri": "https://localhost:8080/"
        },
        "id": "FFnd5V28lR7h",
        "outputId": "85a3bf28-085d-4a00-91a4-c28267d2f2c3"
      },
      "execution_count": 12,
      "outputs": [
        {
          "output_type": "stream",
          "name": "stdout",
          "text": [
            "1 3 4\n"
          ]
        }
      ]
    },
    {
      "cell_type": "markdown",
      "source": [
        "multiple return arguments"
      ],
      "metadata": {
        "id": "0FytgVJylvKp"
      }
    },
    {
      "cell_type": "code",
      "source": [
        "def fun(a,b,c):\n",
        "  print (a+1,b+1,c+1)\n",
        "x = fun(1,2,3)"
      ],
      "metadata": {
        "colab": {
          "base_uri": "https://localhost:8080/"
        },
        "id": "hC3kaJRFlgz1",
        "outputId": "8ebfbfe8-edaf-4aa4-cdcf-3bcf8e1a9306"
      },
      "execution_count": 18,
      "outputs": [
        {
          "output_type": "stream",
          "name": "stdout",
          "text": [
            "2 3 4\n"
          ]
        }
      ]
    },
    {
      "cell_type": "markdown",
      "source": [
        "local and global variable"
      ],
      "metadata": {
        "id": "IijBlp92r4bE"
      }
    },
    {
      "cell_type": "code",
      "source": [
        "g=10\n",
        "def fun(a,b):\n",
        " c=a+b\n",
        " print(c)\n",
        " print(g)\n",
        "fun(1,2)"
      ],
      "metadata": {
        "colab": {
          "base_uri": "https://localhost:8080/"
        },
        "id": "HF6gW12kr-oV",
        "outputId": "58826491-2082-46f5-846e-0e1bc9a6efe2"
      },
      "execution_count": 21,
      "outputs": [
        {
          "output_type": "stream",
          "name": "stdout",
          "text": [
            "3\n",
            "10\n"
          ]
        }
      ]
    },
    {
      "cell_type": "markdown",
      "source": [
        "recursive function"
      ],
      "metadata": {
        "id": "lBWJme8fuD1f"
      }
    },
    {
      "cell_type": "code",
      "source": [
        "def fact(n):\n",
        "  if n==0:\n",
        "    return 1\n",
        "  else:\n",
        "    return n*fact(n-1)\n",
        "fact(5)"
      ],
      "metadata": {
        "colab": {
          "base_uri": "https://localhost:8080/"
        },
        "id": "L2Qtjq3TuGjT",
        "outputId": "6d9b976f-ed5a-4eb4-87b6-a977b3815968"
      },
      "execution_count": 28,
      "outputs": [
        {
          "output_type": "execute_result",
          "data": {
            "text/plain": [
              "120"
            ]
          },
          "metadata": {},
          "execution_count": 28
        }
      ]
    },
    {
      "cell_type": "markdown",
      "source": [
        "check difference is greater than 5"
      ],
      "metadata": {
        "id": "n91lCYIDEu9_"
      }
    },
    {
      "cell_type": "code",
      "source": [
        "def diff(a,b):\n",
        "  difference=a-b\n",
        "  if(difference<5):\n",
        "    print(True)\n",
        "  else:\n",
        "    print(False)"
      ],
      "metadata": {
        "id": "JCYNcJugJoh4"
      },
      "execution_count": 11,
      "outputs": []
    },
    {
      "cell_type": "code",
      "source": [
        "diff(4,2)"
      ],
      "metadata": {
        "colab": {
          "base_uri": "https://localhost:8080/"
        },
        "id": "DiSPyNWNKEAw",
        "outputId": "be5ed332-734c-4a0d-e42a-05e825937c27"
      },
      "execution_count": 7,
      "outputs": [
        {
          "output_type": "stream",
          "name": "stdout",
          "text": [
            "True\n"
          ]
        }
      ]
    },
    {
      "cell_type": "code",
      "source": [
        "diff(7,1)"
      ],
      "metadata": {
        "colab": {
          "base_uri": "https://localhost:8080/"
        },
        "id": "R61MXBQ6KUKd",
        "outputId": "aff64dad-e346-4169-852f-5f3d168e5bc2"
      },
      "execution_count": 12,
      "outputs": [
        {
          "output_type": "stream",
          "name": "stdout",
          "text": [
            "False\n"
          ]
        }
      ]
    },
    {
      "cell_type": "markdown",
      "source": [
        "max of three numbers"
      ],
      "metadata": {
        "id": "GJN130-lK5HP"
      }
    },
    {
      "cell_type": "code",
      "source": [
        "def max(a,b,c):\n",
        "  if(a>b and a>c):\n",
        "    return a\n",
        "  elif(b>a and b>c):\n",
        "    return b\n",
        "  else:\n",
        "    return c"
      ],
      "metadata": {
        "id": "LDy9JCKqK77W"
      },
      "execution_count": 21,
      "outputs": []
    },
    {
      "cell_type": "code",
      "source": [
        "max(2,3,1)"
      ],
      "metadata": {
        "colab": {
          "base_uri": "https://localhost:8080/"
        },
        "id": "zkNPDVo9MOqJ",
        "outputId": "7cfe8668-a602-4ce5-863f-fe9618934013"
      },
      "execution_count": 22,
      "outputs": [
        {
          "output_type": "execute_result",
          "data": {
            "text/plain": [
              "3"
            ]
          },
          "metadata": {},
          "execution_count": 22
        }
      ]
    },
    {
      "cell_type": "code",
      "source": [
        "max(12,45,67)"
      ],
      "metadata": {
        "colab": {
          "base_uri": "https://localhost:8080/"
        },
        "id": "pB-i1CovNjed",
        "outputId": "6ec3be57-3236-4a5b-b3ae-013040fcca18"
      },
      "execution_count": 23,
      "outputs": [
        {
          "output_type": "execute_result",
          "data": {
            "text/plain": [
              "67"
            ]
          },
          "metadata": {},
          "execution_count": 23
        }
      ]
    },
    {
      "cell_type": "markdown",
      "source": [
        "printing message based on positional arguments"
      ],
      "metadata": {
        "id": "ivYA-0I_OGSK"
      }
    },
    {
      "cell_type": "code",
      "source": [
        "def fun(name,profission):\n",
        "  print('My name is {} , i am a {}'.format(name,profission))"
      ],
      "metadata": {
        "id": "_YesTt_POPfz"
      },
      "execution_count": 38,
      "outputs": []
    },
    {
      "cell_type": "code",
      "source": [
        "fun('ajay','doctor')"
      ],
      "metadata": {
        "colab": {
          "base_uri": "https://localhost:8080/"
        },
        "id": "6wZ4DlziOwO9",
        "outputId": "5d2eb6ae-fd2e-48a0-d7f3-53e9435ecce7"
      },
      "execution_count": 39,
      "outputs": [
        {
          "output_type": "stream",
          "name": "stdout",
          "text": [
            "My name is ajay , i am a doctor\n"
          ]
        }
      ]
    },
    {
      "cell_type": "markdown",
      "source": [
        "getting planet name"
      ],
      "metadata": {
        "id": "TBQnl6iQRPNg"
      }
    },
    {
      "cell_type": "code",
      "source": [
        "def planet(id):\n",
        "  planets = {1:'Mercury', 2:'Venus', 3:'Earth', 4:'Mars', 5:'Jupiter', 6:'Saturn', 7:'Uranus', 8:'Neptune', 9:'Pluto'}\n",
        "  return planets[id]\n",
        "\n",
        "id=int(input('enter id:'))\n",
        "planet=planet(id)\n",
        "print(planet)"
      ],
      "metadata": {
        "colab": {
          "base_uri": "https://localhost:8080/"
        },
        "id": "Tkp1axDART9C",
        "outputId": "1e92758d-07d0-4d2f-c9c3-3790ba20d57e"
      },
      "execution_count": 41,
      "outputs": [
        {
          "output_type": "stream",
          "name": "stdout",
          "text": [
            "enter id:4\n",
            "Mars\n"
          ]
        }
      ]
    },
    {
      "cell_type": "markdown",
      "source": [
        "scores ending with 0"
      ],
      "metadata": {
        "id": "pmjpokgjYin5"
      }
    },
    {
      "cell_type": "code",
      "source": [
        "def sum0(L):\n",
        " s = 0\n",
        " for e in L:\n",
        "    if e % 10 == 0:\n",
        "      s += e\n",
        " return s\n",
        "\n",
        "\n",
        "L = [100, 123, 200, 234, 350]\n",
        "\n",
        "print(sum0(L))"
      ],
      "metadata": {
        "colab": {
          "base_uri": "https://localhost:8080/"
        },
        "id": "YP0z_Kt4YqHb",
        "outputId": "54d9fe2f-18bc-494f-8bfb-3880343a1a6c"
      },
      "execution_count": 48,
      "outputs": [
        {
          "output_type": "stream",
          "name": "stdout",
          "text": [
            "650\n"
          ]
        }
      ]
    },
    {
      "cell_type": "markdown",
      "source": [
        "inverting a dictionary"
      ],
      "metadata": {
        "id": "iD72D2PdbPPK"
      }
    },
    {
      "cell_type": "code",
      "source": [
        "def dict(d):\n",
        "  newd={}\n",
        "  for k,v in d.items():\n",
        "    newd[v]=k\n",
        "  return newd"
      ],
      "metadata": {
        "id": "dfQYTuctYqhE"
      },
      "execution_count": 57,
      "outputs": []
    },
    {
      "cell_type": "code",
      "source": [
        "d1 = {'a':10, 'b':20, 'c':30, 'd':40}\n",
        "dict(d1)"
      ],
      "metadata": {
        "colab": {
          "base_uri": "https://localhost:8080/"
        },
        "id": "-4yHgm-4bzcJ",
        "outputId": "5a7b8976-214c-488f-e3d6-55d296297599"
      },
      "execution_count": 58,
      "outputs": [
        {
          "output_type": "execute_result",
          "data": {
            "text/plain": [
              "{10: 'a', 20: 'b', 30: 'c', 40: 'd'}"
            ]
          },
          "metadata": {},
          "execution_count": 58
        }
      ]
    },
    {
      "cell_type": "markdown",
      "source": [
        "case counting letters"
      ],
      "metadata": {
        "id": "Qu1VEtkjmv0j"
      }
    },
    {
      "cell_type": "code",
      "source": [
        "def fun(phrase):\n",
        "  lower=0\n",
        "  upper=0\n",
        "  for i in phrase:\n",
        "    if i.islower():\n",
        "      lower=lower+1\n",
        "    elif i.isupper():\n",
        "      upper=upper+1\n",
        "  return lower,upper\n",
        "\n",
        "phrase=input('enter:')\n",
        "fun(phrase)"
      ],
      "metadata": {
        "colab": {
          "base_uri": "https://localhost:8080/"
        },
        "id": "6a-REspemzVG",
        "outputId": "35ed8671-88c1-4b3b-d986-cb448b57c411"
      },
      "execution_count": 68,
      "outputs": [
        {
          "name": "stdout",
          "output_type": "stream",
          "text": [
            "enter:KDKDKdjkjfj\n"
          ]
        },
        {
          "output_type": "execute_result",
          "data": {
            "text/plain": [
              "(6, 5)"
            ]
          },
          "metadata": {},
          "execution_count": 68
        }
      ]
    },
    {
      "cell_type": "markdown",
      "source": [
        "function as object"
      ],
      "metadata": {
        "id": "J7K3AHT0rKzH"
      }
    },
    {
      "cell_type": "code",
      "source": [
        "def display():\n",
        " print('hello')\n",
        "d=display\n",
        "d()"
      ],
      "metadata": {
        "colab": {
          "base_uri": "https://localhost:8080/"
        },
        "id": "rVHKp97QrOzX",
        "outputId": "dba363e5-8694-4da2-edbe-35b5146aa129"
      },
      "execution_count": 69,
      "outputs": [
        {
          "output_type": "stream",
          "name": "stdout",
          "text": [
            "hello\n"
          ]
        }
      ]
    },
    {
      "cell_type": "markdown",
      "source": [
        "nested funtion"
      ],
      "metadata": {
        "id": "7LdyBrKwrcrb"
      }
    },
    {
      "cell_type": "code",
      "source": [
        "def outer():\n",
        "  def inner():\n",
        "    print('hello')\n",
        "  inner()"
      ],
      "metadata": {
        "id": "VB7UwLf1rez7"
      },
      "execution_count": 81,
      "outputs": []
    },
    {
      "cell_type": "code",
      "source": [
        "outer()"
      ],
      "metadata": {
        "colab": {
          "base_uri": "https://localhost:8080/"
        },
        "id": "xu-O9ZJhstel",
        "outputId": "d930af4b-09df-44a7-893f-f5cc8f07748e"
      },
      "execution_count": 82,
      "outputs": [
        {
          "output_type": "stream",
          "name": "stdout",
          "text": [
            "hello\n"
          ]
        }
      ]
    },
    {
      "cell_type": "markdown",
      "source": [
        "function as parameter"
      ],
      "metadata": {
        "id": "3renSs2ZvrUX"
      }
    },
    {
      "cell_type": "code",
      "source": [
        "def display():\n",
        "  print('hello')\n",
        "\n",
        "def fun(r):\n",
        "  r()\n",
        "fun(display)"
      ],
      "metadata": {
        "colab": {
          "base_uri": "https://localhost:8080/"
        },
        "id": "wjvTtWOdvvvR",
        "outputId": "223a32a8-071a-40f8-8356-5a690305c012"
      },
      "execution_count": 1,
      "outputs": [
        {
          "output_type": "stream",
          "name": "stdout",
          "text": [
            "hello\n"
          ]
        }
      ]
    }
  ]
}