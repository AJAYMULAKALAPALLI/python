{
  "nbformat": 4,
  "nbformat_minor": 0,
  "metadata": {
    "colab": {
      "provenance": [],
      "authorship_tag": "ABX9TyOi3gmxIspar2awjMiWknh+",
      "include_colab_link": true
    },
    "kernelspec": {
      "name": "python3",
      "display_name": "Python 3"
    },
    "language_info": {
      "name": "python"
    }
  },
  "cells": [
    {
      "cell_type": "markdown",
      "metadata": {
        "id": "view-in-github",
        "colab_type": "text"
      },
      "source": [
        "<a href=\"https://colab.research.google.com/github/AJAYMULAKALAPALLI/python/blob/main/oops_.ipynb\" target=\"_parent\"><img src=\"https://colab.research.google.com/assets/colab-badge.svg\" alt=\"Open In Colab\"/></a>"
      ]
    },
    {
      "cell_type": "markdown",
      "source": [
        "how to write a class"
      ],
      "metadata": {
        "id": "sqpJPvMuWiA9"
      }
    },
    {
      "cell_type": "code",
      "source": [
        "class rectangle:\n",
        "  def __init__(self,l,b):\n",
        "    self.length=l\n",
        "    self.breadth=b\n",
        "  def area(self):\n",
        "    return self.length*self.breadth\n",
        "r=rectangle(1,3)\n",
        "r.area()\n",
        "r2=rectangle(3,4)\n",
        "r2.area()"
      ],
      "metadata": {
        "colab": {
          "base_uri": "https://localhost:8080/"
        },
        "id": "9NNlfYDwAwfj",
        "outputId": "767dd0b2-d2c8-4d05-8534-8c8412883878"
      },
      "execution_count": null,
      "outputs": [
        {
          "output_type": "execute_result",
          "data": {
            "text/plain": [
              "12"
            ]
          },
          "metadata": {},
          "execution_count": 26
        }
      ]
    },
    {
      "cell_type": "markdown",
      "source": [
        "self and constructor"
      ],
      "metadata": {
        "id": "oycrHa3OAwyT"
      }
    },
    {
      "cell_type": "code",
      "source": [
        "class rectangle:\n",
        "  def __init__(self,l,b):\n",
        "    self.length=l\n",
        "    self.breadth=b\n",
        "  def area(self):\n",
        "    return self.length*self.breadth\n",
        "r=rectangle(1,3)\n",
        "r.area()\n",
        "print(id(r))"
      ],
      "metadata": {
        "colab": {
          "base_uri": "https://localhost:8080/"
        },
        "id": "zzautNknA1E5",
        "outputId": "514f2ddb-e3af-47e3-e54d-e9e832f0387a"
      },
      "execution_count": null,
      "outputs": [
        {
          "output_type": "stream",
          "name": "stdout",
          "text": [
            "136659758277696\n"
          ]
        }
      ]
    },
    {
      "cell_type": "markdown",
      "source": [
        "instance varible and nethod"
      ],
      "metadata": {
        "id": "qtOf63dfA1Wn"
      }
    },
    {
      "cell_type": "code",
      "source": [
        "class rectangle:\n",
        "  def __init__ (self,length,breadth):\n",
        "    self.length=length\n",
        "    self.breadth=breadth\n",
        "\n",
        "  def area(self):\n",
        "    return self.length*self.breadth\n",
        "  def parameter(self):\n",
        "    return 2*(self.length*self.breadth)\n"
      ],
      "metadata": {
        "id": "0UNOLd_mA4ww"
      },
      "execution_count": null,
      "outputs": []
    },
    {
      "cell_type": "code",
      "source": [
        "c1=rectangle(1,2)\n",
        "c1.area()\n",
        "c1.parameter()"
      ],
      "metadata": {
        "colab": {
          "base_uri": "https://localhost:8080/"
        },
        "id": "VnUR81XeBrQW",
        "outputId": "6df4f22a-8885-403f-839d-44bf43137096"
      },
      "execution_count": null,
      "outputs": [
        {
          "output_type": "execute_result",
          "data": {
            "text/plain": [
              "4"
            ]
          },
          "metadata": {},
          "execution_count": 12
        }
      ]
    },
    {
      "cell_type": "markdown",
      "source": [
        "get and set methods"
      ],
      "metadata": {
        "id": "mCYwrR708qQt"
      }
    },
    {
      "cell_type": "code",
      "source": [
        "class rectangle:\n",
        "  def __init__(self,l,b):\n",
        "    self.length=l\n",
        "    self.breadth=b\n",
        "  def getlength(self):\n",
        "    return self.length\n",
        "  def setlength(self,l):\n",
        "    self.length=l\n",
        "  def area(self):\n",
        "    return self.length*self.breadth\n"
      ],
      "metadata": {
        "id": "Q6kicYoK8tl7"
      },
      "execution_count": null,
      "outputs": []
    },
    {
      "cell_type": "code",
      "source": [
        "r=rectangle(1,2)\n",
        "print(r.getlength())\n",
        "r.setlength(4)\n",
        "print(r.area())"
      ],
      "metadata": {
        "colab": {
          "base_uri": "https://localhost:8080/"
        },
        "id": "M1_9WqU4-s9t",
        "outputId": "8576a87d-011d-4fc2-a75a-a544e4ce201f"
      },
      "execution_count": null,
      "outputs": [
        {
          "output_type": "stream",
          "name": "stdout",
          "text": [
            "1\n",
            "8\n"
          ]
        }
      ]
    },
    {
      "cell_type": "markdown",
      "source": [
        "206 inharitance"
      ],
      "metadata": {
        "id": "lzk4bxYoLh_9"
      }
    },
    {
      "cell_type": "code",
      "source": [
        "class car:\n",
        "  def bolaro():\n",
        "    print('bolary is strong car')\n",
        "  def swift():\n",
        "    print('swift is security car')\n",
        "class luxary(car):\n",
        "  def venue():\n",
        "    print('venue is luaxary car')\n",
        "l=luxary\n",
        "l.venue()"
      ],
      "metadata": {
        "id": "4EJT-OO8LlDs",
        "outputId": "6310ab90-79a7-414c-9522-4f06dff50258",
        "colab": {
          "base_uri": "https://localhost:8080/"
        }
      },
      "execution_count": null,
      "outputs": [
        {
          "output_type": "stream",
          "name": "stdout",
          "text": [
            "venue is luaxary car\n"
          ]
        }
      ]
    },
    {
      "cell_type": "markdown",
      "source": [
        "207 constructor in inheritance"
      ],
      "metadata": {
        "id": "jOgBn65bHS9f"
      }
    },
    {
      "cell_type": "code",
      "source": [
        "class rectangle:\n",
        "  def __init__ (self,length,breadth):\n",
        "    self.length=length\n",
        "    self.breadth=breadth\n",
        "\n",
        "  def area(self):\n",
        "    return self.length*self.breadth\n",
        "  def parameter(self):\n",
        "    return 2*(self.length*self.breadth)\n",
        "r=rectangle(1,2)\n",
        "r.area()"
      ],
      "metadata": {
        "colab": {
          "base_uri": "https://localhost:8080/"
        },
        "id": "j-bAaJ0LHTix",
        "outputId": "fc2ffb71-2849-4d76-df43-c45fcf3c7ed8"
      },
      "execution_count": null,
      "outputs": [
        {
          "output_type": "execute_result",
          "data": {
            "text/plain": [
              "2"
            ]
          },
          "metadata": {},
          "execution_count": 44
        }
      ]
    },
    {
      "cell_type": "code",
      "source": [
        "class cubiod(rectangle):\n",
        "  def __init__(self,height,length,breadth):\n",
        "    self.height=height\n",
        "    self.length=length\n",
        "    self.breadth=breadth\n",
        "  def area(self):\n",
        "    return self.length*self.breadth*self.height\n",
        "c=cubiod(1,2,3)\n",
        "c.area()"
      ],
      "metadata": {
        "colab": {
          "base_uri": "https://localhost:8080/"
        },
        "id": "rxRzF5W3HY_G",
        "outputId": "d5cd6023-ff02-4482-93fa-a9d29dfec74f"
      },
      "execution_count": null,
      "outputs": [
        {
          "output_type": "execute_result",
          "data": {
            "text/plain": [
              "6"
            ]
          },
          "metadata": {},
          "execution_count": 45
        }
      ]
    },
    {
      "cell_type": "markdown",
      "source": [
        "normal program"
      ],
      "metadata": {
        "id": "Y048ru0qrSMX"
      }
    },
    {
      "cell_type": "code",
      "source": [
        "class car:\n",
        "  def creata(self):\n",
        "    print('creata is driving')\n",
        "  def benz(self):\n",
        "    print('benz is driving')\n",
        "c=car()"
      ],
      "metadata": {
        "id": "ca0ti4Vhra9h"
      },
      "execution_count": null,
      "outputs": []
    },
    {
      "cell_type": "code",
      "source": [
        "c.creata()"
      ],
      "metadata": {
        "colab": {
          "base_uri": "https://localhost:8080/"
        },
        "id": "Nnk7xGq1r0eA",
        "outputId": "88100ad0-8833-47f3-cabb-e4e1fca183d3"
      },
      "execution_count": null,
      "outputs": [
        {
          "output_type": "stream",
          "name": "stdout",
          "text": [
            "creata is driving\n"
          ]
        }
      ]
    },
    {
      "cell_type": "code",
      "source": [
        "c.benz()"
      ],
      "metadata": {
        "colab": {
          "base_uri": "https://localhost:8080/"
        },
        "id": "NmJ0rkxgsfzc",
        "outputId": "ff8dfda0-9b1f-4f44-b88b-7480b3ee4b7d"
      },
      "execution_count": null,
      "outputs": [
        {
          "output_type": "stream",
          "name": "stdout",
          "text": [
            "benz is driving\n"
          ]
        }
      ]
    },
    {
      "cell_type": "markdown",
      "source": [
        "polymorphism"
      ],
      "metadata": {
        "id": "rBkNd6kvtCCf"
      }
    },
    {
      "cell_type": "code",
      "source": [
        "def petlover(pet):\n",
        "  pet.talk()\n",
        "  pet.eat()\n",
        "\n",
        "class dog:\n",
        "  def talk(self):\n",
        "    print('dog is talking')\n",
        "  def eat(self):\n",
        "    print('dog is eating')\n",
        "class duck:\n",
        "  def talk(self):\n",
        "    print('duck is talking')\n",
        "  def eat(self):\n",
        "    print('duck is eating')\n",
        "d1=dog()\n",
        "petlover(d1)"
      ],
      "metadata": {
        "id": "Okf7FrvXtFlj",
        "colab": {
          "base_uri": "https://localhost:8080/"
        },
        "outputId": "0980968e-d5d3-4c5d-d311-040e76ac27e4"
      },
      "execution_count": null,
      "outputs": [
        {
          "output_type": "stream",
          "name": "stdout",
          "text": [
            "dog is talking\n",
            "dog is eating\n"
          ]
        }
      ]
    },
    {
      "cell_type": "markdown",
      "source": [
        "method overraiding"
      ],
      "metadata": {
        "id": "hRDdzwMDIrv1"
      }
    },
    {
      "cell_type": "code",
      "source": [
        "class iphone6:\n",
        "  def home(self):\n",
        "    print('button')\n",
        "class iphone10(iphone6):\n",
        "  def home(self):\n",
        "    print('touch')\n",
        "    super().home()\n",
        "i=iphone10()\n",
        "i.home()"
      ],
      "metadata": {
        "colab": {
          "base_uri": "https://localhost:8080/"
        },
        "id": "lV7IXW33ObQw",
        "outputId": "81917736-846b-45e5-a73f-30b0950e712e"
      },
      "execution_count": null,
      "outputs": [
        {
          "output_type": "stream",
          "name": "stdout",
          "text": [
            "touch\n",
            "button\n"
          ]
        }
      ]
    },
    {
      "cell_type": "markdown",
      "source": [
        "dice in games"
      ],
      "metadata": {
        "id": "ZSIO38RDOV_a"
      }
    },
    {
      "cell_type": "code",
      "source": [
        "from random import *\n",
        "class dice:\n",
        "  def __init__(self,sides):\n",
        "    self.sides=sides\n",
        "  def roll_dice(self):\n",
        "    return randint(1,self.sides)\n",
        "\n",
        "d=dice(12)\n",
        "print(d.roll_dice())\n",
        "print(d.roll_dice())"
      ],
      "metadata": {
        "colab": {
          "base_uri": "https://localhost:8080/"
        },
        "id": "95E6Z1LCOYs-",
        "outputId": "e130a37e-24e5-48d2-ef3f-8339cf6b2fbc"
      },
      "execution_count": null,
      "outputs": [
        {
          "output_type": "stream",
          "name": "stdout",
          "text": [
            "6\n",
            "7\n"
          ]
        }
      ]
    },
    {
      "cell_type": "markdown",
      "source": [
        "class for circle"
      ],
      "metadata": {
        "id": "wZY4XAppQ8-s"
      }
    },
    {
      "cell_type": "code",
      "source": [
        "from math import *\n",
        "class circle:\n",
        "  def __init__(self,radius):\n",
        "    self.radius=radius\n",
        "  def area(self):\n",
        "    return pi*self.radius * self.radius\n",
        "  def perimeter(self):\n",
        "    return 2*pi*self.radius\n",
        "\n",
        "c=circle(2)\n",
        "c.area()"
      ],
      "metadata": {
        "colab": {
          "base_uri": "https://localhost:8080/"
        },
        "id": "t2P0pkg_RBcZ",
        "outputId": "d895ac46-9ce6-41b4-ddf1-e9d70f428ded"
      },
      "execution_count": null,
      "outputs": [
        {
          "output_type": "execute_result",
          "data": {
            "text/plain": [
              "12.566370614359172"
            ]
          },
          "metadata": {},
          "execution_count": 60
        }
      ]
    },
    {
      "cell_type": "markdown",
      "source": [
        "book details"
      ],
      "metadata": {
        "id": "Ziwd4LfSDazC"
      }
    },
    {
      "cell_type": "code",
      "source": [
        "class book:\n",
        "  def  __init__(self,title,author,price):\n",
        "    self.title=title\n",
        "    self.author=author\n",
        "    self.price=price\n",
        "\n",
        "  def show_details(self):\n",
        "    return self.title,self.author,self.price\n",
        "\n",
        "b=book('python','abdul',1000)\n",
        "b.show_details()"
      ],
      "metadata": {
        "colab": {
          "base_uri": "https://localhost:8080/"
        },
        "id": "WfNOt63MDfWH",
        "outputId": "c4af2cd9-3d35-4e98-a645-033e1e5b1df5"
      },
      "execution_count": null,
      "outputs": [
        {
          "output_type": "execute_result",
          "data": {
            "text/plain": [
              "('python', 'abdul', 1000)"
            ]
          },
          "metadata": {},
          "execution_count": 1
        }
      ]
    },
    {
      "cell_type": "markdown",
      "source": [
        "details of an employee"
      ],
      "metadata": {
        "id": "XTo6Kr4-W6PD"
      }
    },
    {
      "cell_type": "code",
      "source": [
        "class employee:\n",
        "  employeecount=101\n",
        "  def __init__(self,name,salary,designation):\n",
        "    self.name=name\n",
        "    self.salary=salary\n",
        "    self.designation=designation\n",
        "    self.eid=\"e\"+str(employee.employeecount)\n",
        "    employee.employeecount+=1\n",
        "  def showdetails(self):\n",
        "    print('name:',self.name)\n",
        "    print('salary:',self.salary)\n",
        "    print('designation:',self.designation)\n",
        "    print('eid:',self.eid)\n",
        "  def totalemp(employee):\n",
        "    return employee.employeecount-101\n",
        "e=employee('ajay',10000,'be')\n",
        "e.showdetails()\n",
        "e.totalemp()\n",
        "\n",
        "e=employee('ravi',10000,'be')\n",
        "e.showdetails()\n",
        "e.totalemp()"
      ],
      "metadata": {
        "colab": {
          "base_uri": "https://localhost:8080/"
        },
        "id": "aBqTHWzTW-nf",
        "outputId": "cd5e80f9-27f1-42e6-f61c-59af1c4a678b"
      },
      "execution_count": null,
      "outputs": [
        {
          "output_type": "stream",
          "name": "stdout",
          "text": [
            "name: ajay\n",
            "salary: 10000\n",
            "designation: be\n",
            "eid: e101\n",
            "name: ravi\n",
            "salary: 10000\n",
            "designation: be\n",
            "eid: e102\n"
          ]
        },
        {
          "output_type": "execute_result",
          "data": {
            "text/plain": [
              "2"
            ]
          },
          "metadata": {},
          "execution_count": 16
        }
      ]
    },
    {
      "cell_type": "markdown",
      "source": [
        "simple class for calculator"
      ],
      "metadata": {
        "id": "dhA3tc69b06X"
      }
    },
    {
      "cell_type": "code",
      "source": [
        "class calculator:\n",
        "  def add(a,b):\n",
        "    return a+b\n",
        "  def sub(a,b):\n",
        "    return a-b\n",
        "  def mul(a,b):\n",
        "    return a*b\n",
        "  def div(a,b):\n",
        "    return a/b\n",
        "print(calculator.add(1,2))\n",
        "print(calculator.sub(1,2))\n",
        "print(calculator.mul(1,2))\n",
        "print(calculator.div(1,2))"
      ],
      "metadata": {
        "colab": {
          "base_uri": "https://localhost:8080/"
        },
        "id": "4wfKd6DvcPYF",
        "outputId": "ff8a8589-6a4e-4444-e153-b7ed08d97518"
      },
      "execution_count": null,
      "outputs": [
        {
          "output_type": "stream",
          "name": "stdout",
          "text": [
            "3\n",
            "-1\n",
            "2\n",
            "0.5\n"
          ]
        }
      ]
    },
    {
      "cell_type": "markdown",
      "source": [
        "customer phone number"
      ],
      "metadata": {
        "id": "wPE7jykZec80"
      }
    },
    {
      "cell_type": "code",
      "source": [
        "class customer:\n",
        "  def __init__(self,name,phoneno):\n",
        "    self.name=name\n",
        "    self.phoneno=phoneno\n",
        "  def get_name(self):\n",
        "    return self.name\n",
        "  def get_phoneno(self):\n",
        "    return self.phoneno\n",
        "  def set_phoneno(self,phoneno):\n",
        "    self.phoneno=phoneno\n",
        "c=customer('ajay',8367510639)\n",
        "print(c.get_name())\n",
        "print(c.get_phoneno())\n",
        "c.set_phoneno(9848342679)\n",
        "print(c.get_name())\n",
        "print(c.get_phoneno())"
      ],
      "metadata": {
        "colab": {
          "base_uri": "https://localhost:8080/"
        },
        "id": "of5x9zRcehW4",
        "outputId": "d1112657-8b87-4e5d-b642-b64126319c04"
      },
      "execution_count": null,
      "outputs": [
        {
          "output_type": "stream",
          "name": "stdout",
          "text": [
            "ajay\n",
            "8367510639\n",
            "ajay\n",
            "9848342679\n"
          ]
        }
      ]
    },
    {
      "cell_type": "markdown",
      "source": [
        "currency converter"
      ],
      "metadata": {
        "id": "GahQHjfbixTP"
      }
    },
    {
      "cell_type": "code",
      "source": [
        "class currencyconvertor:\n",
        "  def __init__(self,currency,rate):\n",
        "    self.currency=currency\n",
        "    self.rate=rate\n",
        "  def get_currency(self):\n",
        "    return self.currency\n",
        "  def get_rate(self):\n",
        "    return self.rate\n",
        "  def set_currency(self,currency):\n",
        "    self.currency=currency\n",
        "  def set_rate(self,rate):\n",
        "    self.rate=rate\n",
        "  def convert(self,amount):\n",
        "    return self.currency+' currency converted to  '+str(amount*self.rate)\n",
        "c=currencyconvertor('usd',70)\n",
        "c.convert(100)"
      ],
      "metadata": {
        "colab": {
          "base_uri": "https://localhost:8080/",
          "height": 36
        },
        "id": "5rz6TUBNi5xp",
        "outputId": "00a9baee-46d4-4145-fc97-f2100765bf03"
      },
      "execution_count": null,
      "outputs": [
        {
          "output_type": "execute_result",
          "data": {
            "text/plain": [
              "'usd currency converted to  7000'"
            ],
            "application/vnd.google.colaboratory.intrinsic+json": {
              "type": "string"
            }
          },
          "metadata": {},
          "execution_count": 31
        }
      ]
    },
    {
      "cell_type": "markdown",
      "source": [
        "bank account"
      ],
      "metadata": {
        "id": "ek9MbRfLpOrk"
      }
    },
    {
      "cell_type": "code",
      "source": [
        "class account:\n",
        "  accno=1001\n",
        "  def __init__(self,name,balance):\n",
        "\n",
        "    if balance<1000:\n",
        "     raise MinmumBalanceError('account cannot be created')\n",
        "    self.name=name\n",
        "    self.balance=balance\n",
        "    account.accno+=1\n",
        "  def deposit(self,amount):\n",
        "    self.balance+=amount\n",
        "    return self.balance\n",
        "  def withdral(self,amount):\n",
        "    if self.balance-amount<1000:\n",
        "      raise MinmumBalanceError('amount cannot be withdral')\n",
        "    self.balance-=amount\n",
        "    return self.balance\n",
        "\n",
        "  def showdetails(self):\n",
        "    print('name:',self.name)\n",
        "    print('accno:',self.accno)\n",
        "    print('balance:',self.balance)\n",
        "a=account('ajay',2000)\n",
        "a.showdetails()\n",
        "print('')\n",
        "a=account('ravi',20000)\n",
        "a.showdetails()\n",
        "print('')\n",
        "a=account('raju',1000)\n",
        "a.deposit(500)\n",
        "a.showdetails()\n",
        "print('')\n",
        "a=account('srinu',1500)\n",
        "a.withdral(500)\n",
        "a.showdetails()"
      ],
      "metadata": {
        "colab": {
          "base_uri": "https://localhost:8080/"
        },
        "id": "sIz6_j9bpUi4",
        "outputId": "5c7fcd9a-2809-4120-e6cf-0a842f1931cd"
      },
      "execution_count": null,
      "outputs": [
        {
          "output_type": "stream",
          "name": "stdout",
          "text": [
            "name: ajay\n",
            "accno: 1002\n",
            "balance: 2000\n",
            "\n",
            "name: ravi\n",
            "accno: 1003\n",
            "balance: 20000\n",
            "\n",
            "name: raju\n",
            "accno: 1004\n",
            "balance: 1500\n",
            "\n",
            "name: srinu\n",
            "accno: 1005\n",
            "balance: 1000\n"
          ]
        }
      ]
    },
    {
      "cell_type": "markdown",
      "source": [
        "pet details"
      ],
      "metadata": {
        "id": "r1E2hOTnDtqi"
      }
    },
    {
      "cell_type": "code",
      "source": [
        "class dog:\n",
        "  def __init__(self,name,age):\n",
        "    self.name=name\n",
        "    self.age=age\n",
        "  def info(self):\n",
        "    print('this is dog')\n",
        "  def makesounds(self):\n",
        "    print('bow bow')\n",
        "class cat:\n",
        "  def __init__(self,name,age):\n",
        "    self.name=name\n",
        "    self.age=age\n",
        "  def info(self):\n",
        "    print('this is cat')\n",
        "  def makesounds(self):\n",
        "    print('meaw')\n",
        "def petlover(pet):\n",
        "   pet.info()\n",
        "   pet.makesounds()\n",
        "d=dog('blaky',13)\n",
        "c=cat('aaa',2)\n",
        "print(petlover(d))\n",
        "print('')\n",
        "print(petlover(d))"
      ],
      "metadata": {
        "colab": {
          "base_uri": "https://localhost:8080/"
        },
        "id": "pRKliMJJD33P",
        "outputId": "eca8cab8-0707-4671-e553-32f566a64b9c"
      },
      "execution_count": null,
      "outputs": [
        {
          "output_type": "stream",
          "name": "stdout",
          "text": [
            "this is dog\n",
            "bow bow\n",
            "None\n",
            "\n",
            "this is dog\n",
            "bow bow\n",
            "None\n"
          ]
        }
      ]
    }
  ]
}