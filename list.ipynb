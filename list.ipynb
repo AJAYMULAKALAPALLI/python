{
  "nbformat": 4,
  "nbformat_minor": 0,
  "metadata": {
    "colab": {
      "provenance": [],
      "authorship_tag": "ABX9TyOZna/ba4q6Tp6WQq+v9mji",
      "include_colab_link": true
    },
    "kernelspec": {
      "name": "python3",
      "display_name": "Python 3"
    },
    "language_info": {
      "name": "python"
    }
  },
  "cells": [
    {
      "cell_type": "markdown",
      "metadata": {
        "id": "view-in-github",
        "colab_type": "text"
      },
      "source": [
        "<a href=\"https://colab.research.google.com/github/AJAYMULAKALAPALLI/python/blob/main/list.ipynb\" target=\"_parent\"><img src=\"https://colab.research.google.com/assets/colab-badge.svg\" alt=\"Open In Colab\"/></a>"
      ]
    },
    {
      "cell_type": "markdown",
      "source": [
        "list"
      ],
      "metadata": {
        "id": "eKD1TLPQZOX1"
      }
    },
    {
      "cell_type": "code",
      "source": [
        "a=[1,2,'ajay',3.5]\n",
        "type(a)"
      ],
      "metadata": {
        "colab": {
          "base_uri": "https://localhost:8080/"
        },
        "id": "vfy2YhshZWwN",
        "outputId": "832f55bf-4288-4599-b3f0-dc4628d252ab"
      },
      "execution_count": 2,
      "outputs": [
        {
          "output_type": "execute_result",
          "data": {
            "text/plain": [
              "list"
            ]
          },
          "metadata": {},
          "execution_count": 2
        }
      ]
    },
    {
      "cell_type": "code",
      "source": [
        "len(a)"
      ],
      "metadata": {
        "colab": {
          "base_uri": "https://localhost:8080/"
        },
        "id": "CfB1puoJZsMK",
        "outputId": "b35de02a-a4dd-486f-8b8a-b98e8d4043c7"
      },
      "execution_count": 3,
      "outputs": [
        {
          "output_type": "execute_result",
          "data": {
            "text/plain": [
              "4"
            ]
          },
          "metadata": {},
          "execution_count": 3
        }
      ]
    },
    {
      "cell_type": "code",
      "source": [
        "print(a)"
      ],
      "metadata": {
        "colab": {
          "base_uri": "https://localhost:8080/"
        },
        "id": "_FNg0AfHZvVX",
        "outputId": "3892ca38-2472-47b1-b2b5-d80c7ff30109"
      },
      "execution_count": 5,
      "outputs": [
        {
          "output_type": "stream",
          "name": "stdout",
          "text": [
            "[1, 2, 'ajay', 3.5]\n"
          ]
        }
      ]
    },
    {
      "cell_type": "code",
      "source": [
        "b=list[5,8,'kj']\n",
        "print(b)"
      ],
      "metadata": {
        "colab": {
          "base_uri": "https://localhost:8080/"
        },
        "id": "RCaYSX3baEjE",
        "outputId": "af3592a2-1546-49da-9aad-863ce4e0df2b"
      },
      "execution_count": 9,
      "outputs": [
        {
          "output_type": "stream",
          "name": "stdout",
          "text": [
            "list[5, 8, 'kj']\n"
          ]
        }
      ]
    },
    {
      "cell_type": "markdown",
      "source": [
        "indexing"
      ],
      "metadata": {
        "id": "0hstUwuqafbF"
      }
    },
    {
      "cell_type": "code",
      "source": [
        "a=[1,2,'ajay',3.5]\n",
        "print(a[3])"
      ],
      "metadata": {
        "colab": {
          "base_uri": "https://localhost:8080/"
        },
        "id": "Ibm2Xh5AahW1",
        "outputId": "439253b8-467b-4a65-b8be-01c6ad2cf10b"
      },
      "execution_count": 11,
      "outputs": [
        {
          "output_type": "stream",
          "name": "stdout",
          "text": [
            "3.5\n"
          ]
        }
      ]
    },
    {
      "cell_type": "markdown",
      "source": [
        "slicing"
      ],
      "metadata": {
        "id": "uUPxoHGJavCV"
      }
    },
    {
      "cell_type": "code",
      "source": [
        "a=[1,2,'ajay',3.5]\n",
        "print(a[1:2])"
      ],
      "metadata": {
        "colab": {
          "base_uri": "https://localhost:8080/"
        },
        "id": "mM_bFk0jawOG",
        "outputId": "b66787ea-4031-481b-d36a-a1abd4cbe16b"
      },
      "execution_count": 12,
      "outputs": [
        {
          "output_type": "stream",
          "name": "stdout",
          "text": [
            "[2]\n"
          ]
        }
      ]
    },
    {
      "cell_type": "code",
      "source": [
        "a=[1,2,'ajay',3.5]\n",
        "print(a[1:4:2])"
      ],
      "metadata": {
        "colab": {
          "base_uri": "https://localhost:8080/"
        },
        "id": "EhAUeymVa307",
        "outputId": "e9393829-24d5-49d9-b7c7-20538ccbcd20"
      },
      "execution_count": 13,
      "outputs": [
        {
          "output_type": "stream",
          "name": "stdout",
          "text": [
            "[2, 3.5]\n"
          ]
        }
      ]
    },
    {
      "cell_type": "markdown",
      "source": [
        "concatination"
      ],
      "metadata": {
        "id": "IHtQKNvpbFEd"
      }
    },
    {
      "cell_type": "code",
      "source": [
        "a=[1,2,'ajay',3.5]\n",
        "b=[5,8,'kj']\n",
        "c=a+b\n",
        "print(c)"
      ],
      "metadata": {
        "colab": {
          "base_uri": "https://localhost:8080/"
        },
        "id": "mC1StWqsbI0Z",
        "outputId": "0a0ad614-5ef9-4cb3-9902-53acc0765fc7"
      },
      "execution_count": 22,
      "outputs": [
        {
          "output_type": "stream",
          "name": "stdout",
          "text": [
            "[1, 2, 'ajay', 3.5, 5, 8, 'kj']\n"
          ]
        }
      ]
    },
    {
      "cell_type": "code",
      "source": [
        "b=[5,8,'kj']\n",
        "c=b+['ajay']\n",
        "print(c)"
      ],
      "metadata": {
        "colab": {
          "base_uri": "https://localhost:8080/"
        },
        "id": "e-kQhN-TcdP1",
        "outputId": "8c05eb28-8924-45c6-857f-a1ad6863ae2d"
      },
      "execution_count": 24,
      "outputs": [
        {
          "output_type": "stream",
          "name": "stdout",
          "text": [
            "[5, 8, 'kj', 'ajay']\n"
          ]
        }
      ]
    },
    {
      "cell_type": "markdown",
      "source": [
        "repitation(*)"
      ],
      "metadata": {
        "id": "_3Ka3kZOcrHr"
      }
    },
    {
      "cell_type": "code",
      "source": [
        "b=[5,8,'kj']\n",
        "print(b*2)"
      ],
      "metadata": {
        "colab": {
          "base_uri": "https://localhost:8080/"
        },
        "id": "LxaqI93GcvcP",
        "outputId": "4ab73765-7933-4967-9e00-743568423091"
      },
      "execution_count": 25,
      "outputs": [
        {
          "output_type": "stream",
          "name": "stdout",
          "text": [
            "[5, 8, 'kj', 5, 8, 'kj']\n"
          ]
        }
      ]
    },
    {
      "cell_type": "markdown",
      "source": [
        "in and not in"
      ],
      "metadata": {
        "id": "WsxfwAJxc26F"
      }
    },
    {
      "cell_type": "code",
      "source": [
        "b=[5,8,'kj']\n",
        "2 in b"
      ],
      "metadata": {
        "colab": {
          "base_uri": "https://localhost:8080/"
        },
        "id": "-rK3tH_mc5Ft",
        "outputId": "c6e6b84d-13ab-45d1-b6eb-307d59499d1d"
      },
      "execution_count": 26,
      "outputs": [
        {
          "output_type": "execute_result",
          "data": {
            "text/plain": [
              "False"
            ]
          },
          "metadata": {},
          "execution_count": 26
        }
      ]
    },
    {
      "cell_type": "code",
      "source": [
        "b=[5,8,'kj']\n",
        "8 in b"
      ],
      "metadata": {
        "colab": {
          "base_uri": "https://localhost:8080/"
        },
        "id": "p7cCmdy_c_E1",
        "outputId": "45cbadad-35a2-4783-f30c-566f35b5ce5a"
      },
      "execution_count": 27,
      "outputs": [
        {
          "output_type": "execute_result",
          "data": {
            "text/plain": [
              "True"
            ]
          },
          "metadata": {},
          "execution_count": 27
        }
      ]
    },
    {
      "cell_type": "code",
      "source": [
        "b=[5,8,'kj']\n",
        "'k' not in b"
      ],
      "metadata": {
        "colab": {
          "base_uri": "https://localhost:8080/"
        },
        "id": "FHreUaRLdDTS",
        "outputId": "6be0ad51-5821-4146-a510-b7951e44a733"
      },
      "execution_count": 29,
      "outputs": [
        {
          "output_type": "execute_result",
          "data": {
            "text/plain": [
              "True"
            ]
          },
          "metadata": {},
          "execution_count": 29
        }
      ]
    },
    {
      "cell_type": "markdown",
      "source": [
        "visiting elements in list(iterations)"
      ],
      "metadata": {
        "id": "XHNKz2qBj7el"
      }
    },
    {
      "cell_type": "markdown",
      "source": [
        "for loop"
      ],
      "metadata": {
        "id": "JcN3qXW0kE3A"
      }
    },
    {
      "cell_type": "code",
      "source": [
        "a=[1,2,'ajay',3.5]\n",
        "for i in a:\n",
        "  print(i)"
      ],
      "metadata": {
        "colab": {
          "base_uri": "https://localhost:8080/"
        },
        "id": "EfCyEsBgkAtf",
        "outputId": "1faa98e8-d77a-4fce-e13b-8beb68d7ba38"
      },
      "execution_count": 30,
      "outputs": [
        {
          "output_type": "stream",
          "name": "stdout",
          "text": [
            "1\n",
            "2\n",
            "ajay\n",
            "3.5\n"
          ]
        }
      ]
    },
    {
      "cell_type": "markdown",
      "source": [
        "for loop using range"
      ],
      "metadata": {
        "id": "nsCW1pASkpU0"
      }
    },
    {
      "cell_type": "code",
      "source": [
        "a=[1,2,'ajay',3.5]\n",
        "for i in range(1,len(a)):\n",
        " print(a[i])"
      ],
      "metadata": {
        "colab": {
          "base_uri": "https://localhost:8080/"
        },
        "id": "SpT3mD9ukuw1",
        "outputId": "90fc1dd9-8995-46d9-b54a-bec722b7e2c1"
      },
      "execution_count": 34,
      "outputs": [
        {
          "output_type": "stream",
          "name": "stdout",
          "text": [
            "2\n",
            "ajay\n",
            "3.5\n"
          ]
        }
      ]
    },
    {
      "cell_type": "markdown",
      "source": [
        "while loop"
      ],
      "metadata": {
        "id": "fHJl8xvulIou"
      }
    },
    {
      "cell_type": "code",
      "source": [
        "a=[1,2,'ajay',3.5]\n",
        "i=0\n",
        "while i<len(a):\n",
        " print(a[i])\n",
        " i=i+1"
      ],
      "metadata": {
        "colab": {
          "base_uri": "https://localhost:8080/"
        },
        "id": "1bisek8OlKty",
        "outputId": "75043c68-9641-464f-820e-f44796b20b60"
      },
      "execution_count": 36,
      "outputs": [
        {
          "output_type": "stream",
          "name": "stdout",
          "text": [
            "1\n",
            "2\n",
            "ajay\n",
            "3.5\n"
          ]
        }
      ]
    },
    {
      "cell_type": "markdown",
      "source": [
        "list methods(adding elements)"
      ],
      "metadata": {
        "id": "VBqOBAeqnEXp"
      }
    },
    {
      "cell_type": "markdown",
      "source": [
        "append"
      ],
      "metadata": {
        "id": "ADhGZ4KfnO8V"
      }
    },
    {
      "cell_type": "code",
      "source": [
        "a=[1,2,'ajay',3.5]\n",
        "a.append(5)\n",
        "print(a)"
      ],
      "metadata": {
        "colab": {
          "base_uri": "https://localhost:8080/"
        },
        "id": "BoDVXbPonQkf",
        "outputId": "c4256c72-d05a-4f80-ffc4-5787a57981f1"
      },
      "execution_count": 38,
      "outputs": [
        {
          "output_type": "stream",
          "name": "stdout",
          "text": [
            "[1, 2, 'ajay', 3.5, 5]\n"
          ]
        }
      ]
    },
    {
      "cell_type": "markdown",
      "source": [
        "insert"
      ],
      "metadata": {
        "id": "al3CKpSunZ_J"
      }
    },
    {
      "cell_type": "code",
      "source": [
        "a=[1,2,'ajay',3.5]\n",
        "a.insert(2,50)\n",
        "print(a)"
      ],
      "metadata": {
        "colab": {
          "base_uri": "https://localhost:8080/"
        },
        "id": "tedeINbonbk0",
        "outputId": "a41f74a2-8937-4b58-c4a1-5bc4d0ff9691"
      },
      "execution_count": 39,
      "outputs": [
        {
          "output_type": "stream",
          "name": "stdout",
          "text": [
            "[1, 2, 50, 'ajay', 3.5]\n"
          ]
        }
      ]
    },
    {
      "cell_type": "markdown",
      "source": [
        "extend"
      ],
      "metadata": {
        "id": "mcycnEA5nlS6"
      }
    },
    {
      "cell_type": "code",
      "source": [
        "a=[1,2,'ajay',3.5]\n",
        "a.extend(['a','s','d','f'])\n",
        "print(a)"
      ],
      "metadata": {
        "colab": {
          "base_uri": "https://localhost:8080/"
        },
        "id": "jPlSrldznpcX",
        "outputId": "e0267af6-69fa-4255-dd2a-78cbececd577"
      },
      "execution_count": 41,
      "outputs": [
        {
          "output_type": "stream",
          "name": "stdout",
          "text": [
            "[1, 2, 'ajay', 3.5, 'a', 's', 'd', 'f']\n"
          ]
        }
      ]
    },
    {
      "cell_type": "code",
      "source": [
        "a=[1,2,'ajay',3.5]\n",
        "b=[5,6,7,8]\n",
        "a.extend(b)\n",
        "print(a)"
      ],
      "metadata": {
        "colab": {
          "base_uri": "https://localhost:8080/"
        },
        "id": "WbfNrOoipL4R",
        "outputId": "5b231fbb-1294-43fb-f906-ad51b43e91a0"
      },
      "execution_count": 43,
      "outputs": [
        {
          "output_type": "stream",
          "name": "stdout",
          "text": [
            "[1, 2, 'ajay', 3.5, 5, 6, 7, 8]\n"
          ]
        }
      ]
    },
    {
      "cell_type": "markdown",
      "source": [
        "copy()"
      ],
      "metadata": {
        "id": "HSmZ5Uo-paPy"
      }
    },
    {
      "cell_type": "code",
      "source": [
        "a=[1,2,'ajay',3.5]\n",
        "b=[5,6,7,8]\n",
        "b.copy()"
      ],
      "metadata": {
        "colab": {
          "base_uri": "https://localhost:8080/"
        },
        "id": "AR2XUzxfpcBk",
        "outputId": "2e3966a1-1d71-4563-89f3-9c51364c4b11"
      },
      "execution_count": 49,
      "outputs": [
        {
          "output_type": "execute_result",
          "data": {
            "text/plain": [
              "[5, 6, 7, 8]"
            ]
          },
          "metadata": {},
          "execution_count": 49
        }
      ]
    },
    {
      "cell_type": "markdown",
      "source": [
        "removing elements"
      ],
      "metadata": {
        "id": "Q6yx22C3p5Ou"
      }
    },
    {
      "cell_type": "markdown",
      "source": [
        "pop"
      ],
      "metadata": {
        "id": "wkKY0utJqIvz"
      }
    },
    {
      "cell_type": "code",
      "source": [
        "b=[5,6,7,8]\n",
        "b.pop()"
      ],
      "metadata": {
        "colab": {
          "base_uri": "https://localhost:8080/"
        },
        "id": "-iRZ2NlDqFkj",
        "outputId": "13b75d0d-eb32-4261-9be4-9e2d38a8d5f1"
      },
      "execution_count": 51,
      "outputs": [
        {
          "output_type": "execute_result",
          "data": {
            "text/plain": [
              "8"
            ]
          },
          "metadata": {},
          "execution_count": 51
        }
      ]
    },
    {
      "cell_type": "code",
      "source": [
        "b=[5,6,7,8]\n",
        "b.pop(2)"
      ],
      "metadata": {
        "colab": {
          "base_uri": "https://localhost:8080/"
        },
        "id": "R4peHYT9qWlB",
        "outputId": "7a73bb51-1167-4f75-870c-dc37e385484c"
      },
      "execution_count": 53,
      "outputs": [
        {
          "output_type": "execute_result",
          "data": {
            "text/plain": [
              "7"
            ]
          },
          "metadata": {},
          "execution_count": 53
        }
      ]
    },
    {
      "cell_type": "markdown",
      "source": [
        "remove"
      ],
      "metadata": {
        "id": "uTKg1oXTqgHo"
      }
    },
    {
      "cell_type": "code",
      "source": [
        "b=[5,6,7,8]\n",
        "b.remove(6)\n",
        "print(b)"
      ],
      "metadata": {
        "colab": {
          "base_uri": "https://localhost:8080/"
        },
        "id": "lvnSKgLcqh-1",
        "outputId": "77a1ae69-8eb9-47eb-d0f2-cd2ac21ad85f"
      },
      "execution_count": 55,
      "outputs": [
        {
          "output_type": "stream",
          "name": "stdout",
          "text": [
            "[5, 7, 8]\n"
          ]
        }
      ]
    },
    {
      "cell_type": "markdown",
      "source": [
        "clear"
      ],
      "metadata": {
        "id": "M7Aa6cwwqr-u"
      }
    },
    {
      "cell_type": "code",
      "source": [
        "b=[5,6,7,8]\n",
        "b.clear()\n",
        "print(b)"
      ],
      "metadata": {
        "colab": {
          "base_uri": "https://localhost:8080/"
        },
        "id": "abst7KhsqtSC",
        "outputId": "d69ae167-5f95-4f40-c6a3-ba128474513c"
      },
      "execution_count": 58,
      "outputs": [
        {
          "output_type": "stream",
          "name": "stdout",
          "text": [
            "[]\n"
          ]
        }
      ]
    },
    {
      "cell_type": "markdown",
      "source": [
        "nested list"
      ],
      "metadata": {
        "id": "UfmYtf7C7PUv"
      }
    },
    {
      "cell_type": "code",
      "source": [
        "b=[5,6,[1,2],7,8]\n",
        "print(b[1])\n",
        "print(b[2][1])"
      ],
      "metadata": {
        "colab": {
          "base_uri": "https://localhost:8080/"
        },
        "id": "QaQwjTPt7SzN",
        "outputId": "9c73b679-2011-4772-d969-cc5d31e70202"
      },
      "execution_count": 60,
      "outputs": [
        {
          "output_type": "stream",
          "name": "stdout",
          "text": [
            "6\n",
            "2\n"
          ]
        }
      ]
    },
    {
      "cell_type": "markdown",
      "source": [
        "calculating salary"
      ],
      "metadata": {
        "id": "myznzfk-8VtC"
      }
    },
    {
      "cell_type": "code",
      "source": [
        "work_hours=[int(x) for x in input('enter hours').split()]\n",
        "wage = int(input('enter wage'))\n",
        "total=sum(work_hours)\n",
        "salary=total*wage\n",
        "print(salary)"
      ],
      "metadata": {
        "colab": {
          "base_uri": "https://localhost:8080/"
        },
        "id": "NLsHNVSv-Xnh",
        "outputId": "9d64badb-14e3-4c4c-c558-55a542e1a3cc"
      },
      "execution_count": 69,
      "outputs": [
        {
          "output_type": "stream",
          "name": "stdout",
          "text": [
            "enter hours1 2 3 4\n",
            "enter wage2\n",
            "20\n"
          ]
        }
      ]
    },
    {
      "cell_type": "markdown",
      "source": [
        "removing duplicates"
      ],
      "metadata": {
        "id": "eGEj_qBR_hyM"
      }
    },
    {
      "cell_type": "code",
      "source": [
        "L1=[1,2,3,4,5,5,6,6,6,7]\n",
        "L2=[]\n",
        "for x in L1:\n",
        "    if x not in L2:\n",
        "        L2.append(x)\n",
        "print(L2)"
      ],
      "metadata": {
        "colab": {
          "base_uri": "https://localhost:8080/"
        },
        "id": "YDkO1DVlANQ_",
        "outputId": "ec49c82a-dc61-4fbf-dc22-5c991246a307"
      },
      "execution_count": 90,
      "outputs": [
        {
          "output_type": "stream",
          "name": "stdout",
          "text": [
            "[1, 2, 3, 4, 5, 6, 7]\n"
          ]
        }
      ]
    },
    {
      "cell_type": "markdown",
      "source": [
        "concatinating into a single number"
      ],
      "metadata": {
        "id": "lxkyeAe3DtWO"
      }
    },
    {
      "cell_type": "code",
      "source": [
        "a=[1,2,3,4]\n",
        "c=''\n",
        "for x in a:\n",
        "  c=c+str(x)\n",
        "print(int(c))"
      ],
      "metadata": {
        "colab": {
          "base_uri": "https://localhost:8080/",
          "height": 227
        },
        "id": "nz6YtVGaD1dn",
        "outputId": "e849bf48-3d82-4310-b546-10187adef520"
      },
      "execution_count": 101,
      "outputs": [
        {
          "output_type": "error",
          "ename": "TypeError",
          "evalue": "ignored",
          "traceback": [
            "\u001b[0;31m---------------------------------------------------------------------------\u001b[0m",
            "\u001b[0;31mTypeError\u001b[0m                                 Traceback (most recent call last)",
            "\u001b[0;32m<ipython-input-101-658052ab1d2f>\u001b[0m in \u001b[0;36m<cell line: 3>\u001b[0;34m()\u001b[0m\n\u001b[1;32m      2\u001b[0m \u001b[0mc\u001b[0m\u001b[0;34m=\u001b[0m\u001b[0;34m''\u001b[0m\u001b[0;34m\u001b[0m\u001b[0;34m\u001b[0m\u001b[0m\n\u001b[1;32m      3\u001b[0m \u001b[0;32mfor\u001b[0m \u001b[0mx\u001b[0m \u001b[0;32min\u001b[0m \u001b[0ma\u001b[0m\u001b[0;34m:\u001b[0m\u001b[0;34m\u001b[0m\u001b[0;34m\u001b[0m\u001b[0m\n\u001b[0;32m----> 4\u001b[0;31m   \u001b[0mc\u001b[0m\u001b[0;34m=\u001b[0m\u001b[0mc\u001b[0m\u001b[0;34m+\u001b[0m\u001b[0mstr\u001b[0m\u001b[0;34m(\u001b[0m\u001b[0mx\u001b[0m\u001b[0;34m)\u001b[0m\u001b[0;34m\u001b[0m\u001b[0;34m\u001b[0m\u001b[0m\n\u001b[0m\u001b[1;32m      5\u001b[0m \u001b[0mprint\u001b[0m\u001b[0;34m(\u001b[0m\u001b[0mint\u001b[0m\u001b[0;34m(\u001b[0m\u001b[0mc\u001b[0m\u001b[0;34m)\u001b[0m\u001b[0;34m)\u001b[0m\u001b[0;34m\u001b[0m\u001b[0;34m\u001b[0m\u001b[0m\n",
            "\u001b[0;31mTypeError\u001b[0m: 'str' object is not callable"
          ]
        }
      ]
    },
    {
      "cell_type": "markdown",
      "source": [
        "overlapping elements of two lists"
      ],
      "metadata": {
        "id": "f5Y-vt4YHT9r"
      }
    },
    {
      "cell_type": "code",
      "source": [
        "L1 = [10, 15, 6, 9, 12, 8, 4]\n",
        "L2 = [14, 6, 19 , 4, 7, 10, 11]\n",
        "L3=[]\n",
        "for x in L1:\n",
        "  if x in L2:\n",
        "    L3.append(x)\n",
        "print(L3)"
      ],
      "metadata": {
        "colab": {
          "base_uri": "https://localhost:8080/"
        },
        "id": "XWF6cnzEHYsF",
        "outputId": "15544150-35a9-4614-e040-c2adbf788ebd"
      },
      "execution_count": 1,
      "outputs": [
        {
          "output_type": "stream",
          "name": "stdout",
          "text": [
            "[10, 6, 4]\n"
          ]
        }
      ]
    }
  ]
}