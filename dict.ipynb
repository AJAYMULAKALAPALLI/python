{
  "nbformat": 4,
  "nbformat_minor": 0,
  "metadata": {
    "colab": {
      "provenance": [],
      "authorship_tag": "ABX9TyOSOxgm/CDA38LQe+OYHxkM",
      "include_colab_link": true
    },
    "kernelspec": {
      "name": "python3",
      "display_name": "Python 3"
    },
    "language_info": {
      "name": "python"
    }
  },
  "cells": [
    {
      "cell_type": "markdown",
      "metadata": {
        "id": "view-in-github",
        "colab_type": "text"
      },
      "source": [
        "<a href=\"https://colab.research.google.com/github/AJAYMULAKALAPALLI/python/blob/main/dict.ipynb\" target=\"_parent\"><img src=\"https://colab.research.google.com/assets/colab-badge.svg\" alt=\"Open In Colab\"/></a>"
      ]
    },
    {
      "cell_type": "markdown",
      "source": [
        "dictionaty"
      ],
      "metadata": {
        "id": "13fcocNbXGfF"
      }
    },
    {
      "cell_type": "markdown",
      "source": [
        "creating dictionary"
      ],
      "metadata": {
        "id": "k8auLZAIXLil"
      }
    },
    {
      "cell_type": "code",
      "source": [
        "a={'name':'ajay',\n",
        "   'roll':21,\n",
        "   'address':'thotaravulapadu',\n",
        "   'nummber':9848342679}\n",
        "print(a)"
      ],
      "metadata": {
        "colab": {
          "base_uri": "https://localhost:8080/"
        },
        "id": "LV7LFJQFXPcU",
        "outputId": "925b4a8f-5a2d-41c3-a684-5d688696da44"
      },
      "execution_count": 3,
      "outputs": [
        {
          "output_type": "stream",
          "name": "stdout",
          "text": [
            "{'name': 'ajay', 'roll': 21, 'address': 'thotaravulapadu', 'nummber': 9848342679}\n"
          ]
        }
      ]
    },
    {
      "cell_type": "markdown",
      "source": [
        "unordered and unique and mutable"
      ],
      "metadata": {
        "id": "ZNqrWtn2X-ol"
      }
    },
    {
      "cell_type": "code",
      "source": [
        "a={'name':'ajay',\n",
        "   'roll':21,\n",
        "   'address':'thotaravulapadu',\n",
        "   'nummber':9848342679}\n",
        "a[1]=45\n",
        "print(a)"
      ],
      "metadata": {
        "colab": {
          "base_uri": "https://localhost:8080/"
        },
        "id": "ug1lDbNDYIHQ",
        "outputId": "e1811aa6-2a76-4eb4-a6b4-a62c4ab3f7d3"
      },
      "execution_count": 6,
      "outputs": [
        {
          "output_type": "stream",
          "name": "stdout",
          "text": [
            "{'name': 'ajay', 'roll': 21, 'address': 'thotaravulapadu', 'nummber': 9848342679, 1: 45}\n"
          ]
        }
      ]
    },
    {
      "cell_type": "code",
      "source": [
        "a={'name':'ajay',\n",
        "   'roll':21,\n",
        "   'address':'thotaravulapadu',\n",
        "   'nummber':9848342679}\n",
        "a['name']='ajay'\n",
        "print(a)"
      ],
      "metadata": {
        "colab": {
          "base_uri": "https://localhost:8080/"
        },
        "id": "4Je3kciCYzyZ",
        "outputId": "faa2c633-8f0e-43bb-a328-da81675f7118"
      },
      "execution_count": 8,
      "outputs": [
        {
          "output_type": "stream",
          "name": "stdout",
          "text": [
            "{'name': 'ajay', 'roll': 21, 'address': 'thotaravulapadu', 'nummber': 9848342679}\n"
          ]
        }
      ]
    },
    {
      "cell_type": "code",
      "source": [
        "a={'name':'ajay',\n",
        "   'roll':21,\n",
        "   'address':'thotaravulapadu',\n",
        "   'nummber':9848342679}\n",
        "a['roll no']=25\n",
        "print(a)"
      ],
      "metadata": {
        "colab": {
          "base_uri": "https://localhost:8080/"
        },
        "id": "fI_UmHJlY-19",
        "outputId": "fde151bd-e873-467d-f087-d07c57303d72"
      },
      "execution_count": 11,
      "outputs": [
        {
          "output_type": "stream",
          "name": "stdout",
          "text": [
            "{'name': 'ajay', 'roll': 21, 'address': 'thotaravulapadu', 'nummber': 9848342679, 'roll no': 25}\n"
          ]
        }
      ]
    },
    {
      "cell_type": "markdown",
      "source": [
        "get()"
      ],
      "metadata": {
        "id": "H7WtqNA-ZmOM"
      }
    },
    {
      "cell_type": "code",
      "source": [
        "a={'name':'ajay',\n",
        "   'roll':21,\n",
        "   'address':'thotaravulapadu',\n",
        "   'nummber':9848342679}\n",
        "print(a.get('roll'))"
      ],
      "metadata": {
        "colab": {
          "base_uri": "https://localhost:8080/"
        },
        "id": "LMFGvwBEZoA0",
        "outputId": "696b97fe-2272-49e7-edcb-a00d067ff763"
      },
      "execution_count": 15,
      "outputs": [
        {
          "output_type": "stream",
          "name": "stdout",
          "text": [
            "21\n"
          ]
        }
      ]
    },
    {
      "cell_type": "markdown",
      "source": [
        "items()"
      ],
      "metadata": {
        "id": "NQFc2g7MaACk"
      }
    },
    {
      "cell_type": "code",
      "source": [
        "a={'name':'ajay',\n",
        "   'roll':21,\n",
        "   'address':'thotaravulapadu',\n",
        "   'nummber':9848342679}\n",
        "a.items()"
      ],
      "metadata": {
        "colab": {
          "base_uri": "https://localhost:8080/"
        },
        "id": "mwBmqOqRaDqk",
        "outputId": "3c958f62-4df4-48cd-9723-56a10a166d74"
      },
      "execution_count": 16,
      "outputs": [
        {
          "output_type": "execute_result",
          "data": {
            "text/plain": [
              "dict_items([('name', 'ajay'), ('roll', 21), ('address', 'thotaravulapadu'), ('nummber', 9848342679)])"
            ]
          },
          "metadata": {},
          "execution_count": 16
        }
      ]
    },
    {
      "cell_type": "markdown",
      "source": [
        "keys()"
      ],
      "metadata": {
        "id": "KcNU_frfaIYx"
      }
    },
    {
      "cell_type": "code",
      "source": [
        "a={'name':'ajay',\n",
        "   'roll':21,\n",
        "   'address':'thotaravulapadu',\n",
        "   'nummber':9848342679}\n",
        "a.keys()"
      ],
      "metadata": {
        "colab": {
          "base_uri": "https://localhost:8080/"
        },
        "id": "rZrHgjyuaKHf",
        "outputId": "a79a17bd-c71d-4665-da91-758f23fda730"
      },
      "execution_count": 17,
      "outputs": [
        {
          "output_type": "execute_result",
          "data": {
            "text/plain": [
              "dict_keys(['name', 'roll', 'address', 'nummber'])"
            ]
          },
          "metadata": {},
          "execution_count": 17
        }
      ]
    },
    {
      "cell_type": "markdown",
      "source": [
        "values()"
      ],
      "metadata": {
        "id": "UTlYLuHnaNXn"
      }
    },
    {
      "cell_type": "code",
      "source": [
        "a={'name':'ajay',\n",
        "   'roll':21,\n",
        "   'address':'thotaravulapadu',\n",
        "   'nummber':9848342679}\n",
        "a.values()"
      ],
      "metadata": {
        "colab": {
          "base_uri": "https://localhost:8080/"
        },
        "id": "2gmCSHT1aPwH",
        "outputId": "9389b047-dac7-4a86-a1b3-cccd8464afcc"
      },
      "execution_count": 19,
      "outputs": [
        {
          "output_type": "execute_result",
          "data": {
            "text/plain": [
              "dict_values(['ajay', 21, 'thotaravulapadu', 9848342679])"
            ]
          },
          "metadata": {},
          "execution_count": 19
        }
      ]
    },
    {
      "cell_type": "markdown",
      "source": [
        "nested dict"
      ],
      "metadata": {
        "id": "Vk9iKb1-abGa"
      }
    },
    {
      "cell_type": "code",
      "source": [
        "a={'name':'ajay',\n",
        "   'roll':21,\n",
        "   'address':'thotaravulapadu',\n",
        "   'nummber':9848342679,\n",
        "   'rank':{'1class':1,\n",
        "           '2class':2,\n",
        "           '3class':3}}\n",
        "print(a)"
      ],
      "metadata": {
        "colab": {
          "base_uri": "https://localhost:8080/"
        },
        "id": "U0uA8ddqacvy",
        "outputId": "5afff1d0-689c-4884-e9f7-1c0a928866d0"
      },
      "execution_count": 23,
      "outputs": [
        {
          "output_type": "stream",
          "name": "stdout",
          "text": [
            "{'name': 'ajay', 'roll': 21, 'address': 'thotaravulapadu', 'nummber': 9848342679, 'rank': {'1class': 1, '2class': 2, '3class': 3}}\n"
          ]
        }
      ]
    },
    {
      "cell_type": "code",
      "source": [
        "a={'name':'ajay',\n",
        "   'roll':21,\n",
        "   'address':'thotaravulapadu',\n",
        "   'nummber':9848342679,\n",
        "   'rank':{'1class':1,\n",
        "           '2class':2,\n",
        "           '3class':3}}\n",
        "print(a.get('rank'))"
      ],
      "metadata": {
        "colab": {
          "base_uri": "https://localhost:8080/"
        },
        "id": "KTdCM_FNbAZk",
        "outputId": "b9a7ae8e-6beb-4a71-d215-b2a009260248"
      },
      "execution_count": 24,
      "outputs": [
        {
          "output_type": "stream",
          "name": "stdout",
          "text": [
            "{'1class': 1, '2class': 2, '3class': 3}\n"
          ]
        }
      ]
    },
    {
      "cell_type": "markdown",
      "source": [
        "for loop"
      ],
      "metadata": {
        "id": "XKaBTNlpbHWK"
      }
    },
    {
      "cell_type": "code",
      "source": [
        "a={1:1,\n",
        "   2:2,\n",
        "   3:3,\n",
        "   4:4}\n",
        "b={x:x*x for x in a}\n",
        "print(b)"
      ],
      "metadata": {
        "colab": {
          "base_uri": "https://localhost:8080/"
        },
        "id": "e-tihLTvbMjo",
        "outputId": "feaea1ce-13fc-42b4-9f7b-c139ffae28f3"
      },
      "execution_count": 29,
      "outputs": [
        {
          "output_type": "stream",
          "name": "stdout",
          "text": [
            "{1: 1, 2: 4, 3: 9, 4: 16}\n"
          ]
        }
      ]
    },
    {
      "cell_type": "markdown",
      "source": [
        "add methods"
      ],
      "metadata": {
        "id": "YOIHWwnPcKsw"
      }
    },
    {
      "cell_type": "markdown",
      "source": [
        "adding single elements"
      ],
      "metadata": {
        "id": "CpU9cJ5wcaJa"
      }
    },
    {
      "cell_type": "code",
      "source": [
        "a={'name':'ajay',\n",
        "   'roll':21,\n",
        "   'address':'thotaravulapadu',\n",
        "   'nummber':9848342679}\n",
        "a[1]=5\n",
        "print(a)"
      ],
      "metadata": {
        "colab": {
          "base_uri": "https://localhost:8080/"
        },
        "id": "I8hv_heEcTwb",
        "outputId": "f6a8f9af-0cc3-4d31-ea79-82dbc9ffa108"
      },
      "execution_count": 31,
      "outputs": [
        {
          "output_type": "stream",
          "name": "stdout",
          "text": [
            "{'name': 'ajay', 'roll': 21, 'address': 'thotaravulapadu', 'nummber': 9848342679, 1: 5}\n"
          ]
        }
      ]
    },
    {
      "cell_type": "markdown",
      "source": [
        "copy()"
      ],
      "metadata": {
        "id": "d5vs20VhctA2"
      }
    },
    {
      "cell_type": "code",
      "source": [
        "a={'name':'ajay',\n",
        "   'roll':21,\n",
        "   'address':'thotaravulapadu',\n",
        "   'nummber':9848342679}\n",
        "b=a.copy()\n",
        "print(b)"
      ],
      "metadata": {
        "colab": {
          "base_uri": "https://localhost:8080/"
        },
        "id": "QdPaQq2IcwCS",
        "outputId": "ee1b5aa5-d526-4e82-ed40-fdcdfa93e220"
      },
      "execution_count": 33,
      "outputs": [
        {
          "output_type": "stream",
          "name": "stdout",
          "text": [
            "{'name': 'ajay', 'roll': 21, 'address': 'thotaravulapadu', 'nummber': 9848342679}\n"
          ]
        }
      ]
    },
    {
      "cell_type": "markdown",
      "source": [
        "update()"
      ],
      "metadata": {
        "id": "Mc0oYkcBc5HO"
      }
    },
    {
      "cell_type": "code",
      "source": [
        "a={'name':'ajay',\n",
        "   'roll':21,\n",
        "   'address':'thotaravulapadu',\n",
        "   'nummber':9848342679}\n",
        "a.update({'roll':25})\n",
        "print(a)"
      ],
      "metadata": {
        "colab": {
          "base_uri": "https://localhost:8080/"
        },
        "id": "v9WDGXOYc61m",
        "outputId": "c03d14f4-9beb-4b16-f8cb-e29a2a681a89"
      },
      "execution_count": 36,
      "outputs": [
        {
          "output_type": "stream",
          "name": "stdout",
          "text": [
            "{'name': 'ajay', 'roll': 25, 'address': 'thotaravulapadu', 'nummber': 9848342679}\n"
          ]
        }
      ]
    },
    {
      "cell_type": "markdown",
      "source": [
        "removing methods"
      ],
      "metadata": {
        "id": "6wy1MCHzdO3r"
      }
    },
    {
      "cell_type": "code",
      "source": [
        "a={'name':'ajay',\n",
        "   'roll':21,\n",
        "   'address':'thotaravulapadu',\n",
        "   'nummber':9848342679}\n",
        "a.pop('roll')"
      ],
      "metadata": {
        "colab": {
          "base_uri": "https://localhost:8080/"
        },
        "id": "ArOT9d0DdTOl",
        "outputId": "b544c2d3-d615-43e3-ad9d-0a42198033b7"
      },
      "execution_count": 38,
      "outputs": [
        {
          "output_type": "execute_result",
          "data": {
            "text/plain": [
              "21"
            ]
          },
          "metadata": {},
          "execution_count": 38
        }
      ]
    },
    {
      "cell_type": "markdown",
      "source": [
        "clear()"
      ],
      "metadata": {
        "id": "jEOfsR70dcpb"
      }
    },
    {
      "cell_type": "code",
      "source": [
        "a={'name':'ajay',\n",
        "   'roll':21,\n",
        "   'address':'thotaravulapadu',\n",
        "   'nummber':9848342679}\n",
        "a.clear()\n",
        "print(a)"
      ],
      "metadata": {
        "colab": {
          "base_uri": "https://localhost:8080/"
        },
        "id": "QGet1NdMdeyL",
        "outputId": "2d954442-b8b6-44be-cdc8-68b45ee1972d"
      },
      "execution_count": 40,
      "outputs": [
        {
          "output_type": "stream",
          "name": "stdout",
          "text": [
            "{}\n"
          ]
        }
      ]
    },
    {
      "cell_type": "markdown",
      "source": [
        "del()"
      ],
      "metadata": {
        "id": "Aup4xahLdkHZ"
      }
    },
    {
      "cell_type": "code",
      "source": [
        "a={'name':'ajay',\n",
        "   'roll':21,\n",
        "   'address':'thotaravulapadu',\n",
        "   'nummber':9848342679}\n",
        "del(a)"
      ],
      "metadata": {
        "id": "fOhgvuYsdnXP"
      },
      "execution_count": 54,
      "outputs": []
    }
  ]
}