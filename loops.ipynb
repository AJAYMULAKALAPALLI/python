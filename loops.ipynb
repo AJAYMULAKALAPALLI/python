{
  "cells": [
    {
      "cell_type": "markdown",
      "metadata": {
        "id": "view-in-github",
        "colab_type": "text"
      },
      "source": [
        "<a href=\"https://colab.research.google.com/github/AJAYMULAKALAPALLI/python/blob/main/loops.ipynb\" target=\"_parent\"><img src=\"https://colab.research.google.com/assets/colab-badge.svg\" alt=\"Open In Colab\"/></a>"
      ]
    },
    {
      "cell_type": "markdown",
      "metadata": {
        "id": "hrDHn-WDOIyU"
      },
      "source": [
        "section 6(loops)\n",
        "while loop"
      ]
    },
    {
      "cell_type": "markdown",
      "metadata": {
        "id": "xsM8hEvaOT6K"
      },
      "source": [
        "printing a name 10 times"
      ]
    },
    {
      "cell_type": "code",
      "execution_count": null,
      "metadata": {
        "colab": {
          "base_uri": "https://localhost:8080/"
        },
        "id": "zoJ8HivQOSwT",
        "outputId": "8ed880a6-c4c7-45a9-cda9-a8aca9347069"
      },
      "outputs": [
        {
          "name": "stdout",
          "output_type": "stream",
          "text": [
            "1 ajay\n",
            "2 ajay\n",
            "3 ajay\n",
            "4 ajay\n",
            "5 ajay\n",
            "6 ajay\n",
            "7 ajay\n",
            "8 ajay\n",
            "9 ajay\n",
            "10 ajay\n"
          ]
        }
      ],
      "source": [
        "count=0\n",
        "while(count<10):\n",
        "  print(count+1,\"ajay\")\n",
        "  count=count+1"
      ]
    },
    {
      "cell_type": "markdown",
      "metadata": {
        "id": "MTF16jTLQ1Nn"
      },
      "source": [
        "printing a number reverse"
      ]
    },
    {
      "cell_type": "code",
      "execution_count": null,
      "metadata": {
        "colab": {
          "base_uri": "https://localhost:8080/"
        },
        "id": "n32ccuzlQ4DT",
        "outputId": "7c0c6366-bf84-4758-aec3-790fd6e4bf55"
      },
      "outputs": [
        {
          "name": "stdout",
          "output_type": "stream",
          "text": [
            "enter a number123\n",
            "3\n",
            "2\n",
            "1\n"
          ]
        }
      ],
      "source": [
        "n=int(input(\"enter a number\"))\n",
        "while(n>0):\n",
        "  r=n%10\n",
        "  n=n//10\n",
        "  print(r)"
      ]
    },
    {
      "cell_type": "markdown",
      "metadata": {
        "id": "wdU3rxWOTeA9"
      },
      "source": [
        "multiplication table for given number"
      ]
    },
    {
      "cell_type": "code",
      "execution_count": null,
      "metadata": {
        "colab": {
          "base_uri": "https://localhost:8080/"
        },
        "id": "NM5S0f8jTmGw",
        "outputId": "025f8722-d782-4d9e-ad41-b5dd59b1f0ae"
      },
      "outputs": [
        {
          "name": "stdout",
          "output_type": "stream",
          "text": [
            "5 * 0 = 0\n",
            "5 * 1 = 5\n",
            "5 * 2 = 10\n",
            "5 * 3 = 15\n",
            "5 * 4 = 20\n",
            "5 * 5 = 25\n",
            "5 * 6 = 30\n",
            "5 * 7 = 35\n",
            "5 * 8 = 40\n",
            "5 * 9 = 45\n",
            "5 * 10 = 50\n"
          ]
        }
      ],
      "source": [
        "n=5\n",
        "count=0\n",
        "while(count<=10):\n",
        "  print(n,\"*\",count,\"=\",n*count)\n",
        "  count=count+1"
      ]
    },
    {
      "cell_type": "markdown",
      "metadata": {
        "id": "KbLGkrR6VaAS"
      },
      "source": [
        "counting the number of digits in a number"
      ]
    },
    {
      "cell_type": "code",
      "execution_count": null,
      "metadata": {
        "colab": {
          "base_uri": "https://localhost:8080/"
        },
        "id": "sRuKliNwVfOb",
        "outputId": "c086571b-38a1-42cd-c532-120693d13d5a"
      },
      "outputs": [
        {
          "name": "stdout",
          "output_type": "stream",
          "text": [
            "enter a number345\n",
            "3\n"
          ]
        }
      ],
      "source": [
        "n=int(input(\"enter a number\"))\n",
        "count=0\n",
        "while(n>0):\n",
        "  n=n//10\n",
        "  count=count+1\n",
        "print(count)"
      ]
    },
    {
      "cell_type": "markdown",
      "metadata": {
        "id": "MdbFgUOoXyNv"
      },
      "source": [
        "find sum of digit in a number"
      ]
    },
    {
      "cell_type": "code",
      "execution_count": null,
      "metadata": {
        "colab": {
          "base_uri": "https://localhost:8080/"
        },
        "id": "iO8pkBDMX2KM",
        "outputId": "4ba8efd9-53b1-4920-8bb0-56a4e7e738e3"
      },
      "outputs": [
        {
          "name": "stdout",
          "output_type": "stream",
          "text": [
            "enter a number123\n",
            "6\n"
          ]
        }
      ],
      "source": [
        "n=int(input(\"enter a number\"))\n",
        "sum=0\n",
        "while(n>0):\n",
        "  r=n%10\n",
        "  n=n//10\n",
        "  sum=sum+r\n",
        "print(sum)\n"
      ]
    },
    {
      "cell_type": "markdown",
      "metadata": {
        "id": "p5dEz3UNaY4Y"
      },
      "source": [
        "reverse a number"
      ]
    },
    {
      "cell_type": "code",
      "execution_count": null,
      "metadata": {
        "colab": {
          "base_uri": "https://localhost:8080/"
        },
        "id": "KOLcfCvDabpH",
        "outputId": "970d0e96-8225-46c6-ca03-3c4182199dbc"
      },
      "outputs": [
        {
          "name": "stdout",
          "output_type": "stream",
          "text": [
            "enter a number123\n",
            "321\n"
          ]
        }
      ],
      "source": [
        "n=int(input(\"enter a number\"))\n",
        "rev=0\n",
        "while(n>0):\n",
        "  r=n%10\n",
        "  n=n//10\n",
        "  rev=rev*10+r\n",
        "print(rev)"
      ]
    },
    {
      "cell_type": "markdown",
      "metadata": {
        "id": "Li7llnc_bqtU"
      },
      "source": [
        "check number is palindrome or not"
      ]
    },
    {
      "cell_type": "code",
      "execution_count": null,
      "metadata": {
        "id": "nR2-w_-cmIve"
      },
      "outputs": [],
      "source": []
    },
    {
      "cell_type": "code",
      "execution_count": null,
      "metadata": {
        "colab": {
          "base_uri": "https://localhost:8080/"
        },
        "id": "yY-B4hHXakdn",
        "outputId": "deaa9e59-e717-442a-e999-5f6c9399dd6d"
      },
      "outputs": [
        {
          "name": "stdout",
          "output_type": "stream",
          "text": [
            "enter a number1221\n",
            "1221\n",
            "palindrome\n"
          ]
        }
      ],
      "source": [
        "n=int(input(\"enter a number\"))\n",
        "m=n\n",
        "rev=0\n",
        "while(n>0):\n",
        "  r=n%10\n",
        "  n=n//10\n",
        "  rev=rev*10+r\n",
        "print(rev)\n",
        "if(rev==m):\n",
        "  print(\"palindrome\")\n",
        "else:\n",
        "  print(\"not palindrome\")"
      ]
    },
    {
      "cell_type": "markdown",
      "metadata": {
        "id": "uzHjHbo9o-1p"
      },
      "source": [
        "infinate loop\n",
        "below t is capital"
      ]
    },
    {
      "cell_type": "code",
      "execution_count": null,
      "metadata": {
        "colab": {
          "base_uri": "https://localhost:8080/",
          "height": 193
        },
        "id": "ijNx-usqpBrm",
        "outputId": "584a6118-9758-4bdc-f5e0-80a6506a3a16"
      },
      "outputs": [
        {
          "ename": "NameError",
          "evalue": "ignored",
          "output_type": "error",
          "traceback": [
            "\u001b[0;31m---------------------------------------------------------------------------\u001b[0m",
            "\u001b[0;31mNameError\u001b[0m                                 Traceback (most recent call last)",
            "\u001b[0;32m<ipython-input-41-2837f833718b>\u001b[0m in \u001b[0;36m<cell line: 1>\u001b[0;34m()\u001b[0m\n\u001b[0;32m----> 1\u001b[0;31m \u001b[0;32mwhile\u001b[0m \u001b[0mtrue\u001b[0m\u001b[0;34m:\u001b[0m\u001b[0;34m\u001b[0m\u001b[0;34m\u001b[0m\u001b[0m\n\u001b[0m\u001b[1;32m      2\u001b[0m   \u001b[0mprint\u001b[0m\u001b[0;34m(\u001b[0m\u001b[0;34m\"ajay\"\u001b[0m\u001b[0;34m)\u001b[0m\u001b[0;34m\u001b[0m\u001b[0;34m\u001b[0m\u001b[0m\n",
            "\u001b[0;31mNameError\u001b[0m: name 'true' is not defined"
          ]
        }
      ],
      "source": [
        "while true:\n",
        "  print(\"ajay\")"
      ]
    },
    {
      "cell_type": "markdown",
      "metadata": {
        "id": "zJIIYU1GqPOR"
      },
      "source": [
        "break(positive or negative)"
      ]
    },
    {
      "cell_type": "code",
      "execution_count": null,
      "metadata": {
        "colab": {
          "base_uri": "https://localhost:8080/"
        },
        "id": "XZvfsY55qQtu",
        "outputId": "a097fb75-17a5-429e-e7e2-2101130eed06"
      },
      "outputs": [
        {
          "name": "stdout",
          "output_type": "stream",
          "text": [
            "enter a number5\n",
            "positive\n",
            "enter a number6\n",
            "positive\n",
            "enter a number0\n"
          ]
        }
      ],
      "source": [
        "while(True):\n",
        " n=int(input(\"enter a number\"))\n",
        " if(n>0):\n",
        "  print(\"positive\")\n",
        " elif(n<0):\n",
        "  print(\"negitive\")\n",
        " else:\n",
        "  break"
      ]
    },
    {
      "cell_type": "markdown",
      "metadata": {
        "id": "YlLNp9eirHrF"
      },
      "source": [
        "continue(printing numbers from 1 to 10 exept 3 multiples)"
      ]
    },
    {
      "cell_type": "code",
      "execution_count": null,
      "metadata": {
        "colab": {
          "base_uri": "https://localhost:8080/"
        },
        "id": "pju8D4H7r3Yp",
        "outputId": "59cbe87f-3bd1-4da8-8daa-3f13f7346274"
      },
      "outputs": [
        {
          "name": "stdout",
          "output_type": "stream",
          "text": [
            "enter a number1\n",
            "1\n",
            "enter a number2\n",
            "2\n",
            "enter a number3\n",
            "enter a number4\n",
            "4\n",
            "enter a number5\n",
            "5\n",
            "enter a number6\n",
            "enter a number7\n",
            "7\n",
            "enter a number8\n",
            "8\n",
            "enter a number9\n",
            "enter a number10\n",
            "10\n",
            "enter a number11\n",
            "11\n",
            "enter a number12\n",
            "enter a number13\n",
            "13\n",
            "enter a number14\n",
            "14\n"
          ]
        }
      ],
      "source": [
        "count=0\n",
        "while(count<10):\n",
        " n=int(input(\"enter a number\"))\n",
        " if(n%3==0):\n",
        "  continue\n",
        " print(n)\n",
        " count=count+1"
      ]
    },
    {
      "cell_type": "markdown",
      "metadata": {
        "id": "B07QKz27rK_7"
      },
      "source": [
        "pass(printing 1 to 10 except 3 multiples)"
      ]
    },
    {
      "cell_type": "code",
      "execution_count": null,
      "metadata": {
        "colab": {
          "base_uri": "https://localhost:8080/"
        },
        "id": "NoocoIS2uWyG",
        "outputId": "36158bc9-0ef9-42ae-c8d7-366d2584b056"
      },
      "outputs": [
        {
          "name": "stdout",
          "output_type": "stream",
          "text": [
            "enter a number1\n",
            "1\n",
            "enter a number2\n",
            "2\n",
            "enter a number3\n",
            "enter a number4\n",
            "4\n",
            "enter a number5\n",
            "5\n",
            "enter a number6\n",
            "enter a number7\n",
            "7\n",
            "enter a number8\n",
            "8\n",
            "enter a number9\n",
            "enter a number10\n",
            "10\n"
          ]
        }
      ],
      "source": [
        "count=0\n",
        "while(count<10):\n",
        " n=int(input(\"enter a number\"))\n",
        " if(n%3==0):\n",
        "  pass\n",
        " else:\n",
        "  print(n)\n",
        " count=count+1"
      ]
    },
    {
      "cell_type": "markdown",
      "metadata": {
        "id": "jRYs6Lpcv8Js"
      },
      "source": [
        "for loop\n",
        "(printing 10 numbers)"
      ]
    },
    {
      "cell_type": "code",
      "execution_count": null,
      "metadata": {
        "colab": {
          "base_uri": "https://localhost:8080/"
        },
        "id": "gxJQ9IjpFZ9m",
        "outputId": "f6d5ff6c-6072-4e38-9e9b-6910704532ff"
      },
      "outputs": [
        {
          "name": "stdout",
          "output_type": "stream",
          "text": [
            "0\n",
            "1\n",
            "2\n",
            "3\n",
            "4\n",
            "5\n",
            "6\n",
            "7\n",
            "8\n",
            "9\n"
          ]
        }
      ],
      "source": [
        "for i in range(10):\n",
        "  print (i)"
      ]
    },
    {
      "cell_type": "markdown",
      "metadata": {
        "id": "f9fc72DjGfPi"
      },
      "source": [
        "multiplication table for a given number using for loop"
      ]
    },
    {
      "cell_type": "code",
      "execution_count": null,
      "metadata": {
        "colab": {
          "base_uri": "https://localhost:8080/"
        },
        "id": "YOQ6ZDzlGqIN",
        "outputId": "3beccbe3-c346-4fa1-ef10-136bc8cbe5c0"
      },
      "outputs": [
        {
          "name": "stdout",
          "output_type": "stream",
          "text": [
            "5 * 0 = 0\n",
            "5 * 1 = 5\n",
            "5 * 2 = 10\n",
            "5 * 3 = 15\n",
            "5 * 4 = 20\n"
          ]
        }
      ],
      "source": [
        "n=5\n",
        "for i in range (5):\n",
        "  print(n,\"*\",i,\"=\",n*i)"
      ]
    },
    {
      "cell_type": "markdown",
      "metadata": {
        "id": "lMeZBuAXGfXI"
      },
      "source": [
        "factorial of a given number"
      ]
    },
    {
      "cell_type": "code",
      "execution_count": null,
      "metadata": {
        "colab": {
          "base_uri": "https://localhost:8080/"
        },
        "id": "i_gsrQJtJQFg",
        "outputId": "5828b1ca-7c9e-4d5f-8834-3a0a92f7ecad"
      },
      "outputs": [
        {
          "name": "stdout",
          "output_type": "stream",
          "text": [
            "enter a number5\n",
            "120\n"
          ]
        }
      ],
      "source": [
        "n=int(input(\"enter a number\"))\n",
        "fact=1\n",
        "for n in range (1,n+1):\n",
        "  fact=fact*n\n",
        "print(fact)"
      ]
    },
    {
      "cell_type": "markdown",
      "metadata": {
        "id": "gLQIvnVSLaIm"
      },
      "source": [
        "print n terms of AP series"
      ]
    },
    {
      "cell_type": "code",
      "execution_count": null,
      "metadata": {
        "colab": {
          "base_uri": "https://localhost:8080/"
        },
        "id": "Csh-xcWeLfqL",
        "outputId": "65e85506-3f0b-40ea-f416-9368528c7f07"
      },
      "outputs": [
        {
          "name": "stdout",
          "output_type": "stream",
          "text": [
            "enter a number5\n",
            "enter d number2\n",
            "enter n number6\n",
            "5\n",
            "7\n",
            "9\n",
            "11\n",
            "13\n",
            "15\n"
          ]
        }
      ],
      "source": [
        "a=int(input(\"enter a number\"))\n",
        "d=int(input(\"enter d number\"))\n",
        "n=int(input(\"enter n number\"))\n",
        "for t in range(a,a+n*d,d):\n",
        "  print(t)"
      ]
    },
    {
      "cell_type": "markdown",
      "metadata": {
        "id": "ExBeE7CvOHD_"
      },
      "source": [
        "print n terms of fibonacci series"
      ]
    },
    {
      "cell_type": "code",
      "execution_count": null,
      "metadata": {
        "colab": {
          "base_uri": "https://localhost:8080/"
        },
        "id": "Z9ZE9QQ2OMTJ",
        "outputId": "c2e7b4ed-2f06-4797-e54c-64ec997ee274"
      },
      "outputs": [
        {
          "name": "stdout",
          "output_type": "stream",
          "text": [
            "Enter Number of Terms5\n",
            "0\n",
            "1\n",
            "1\n",
            "2\n",
            "3\n",
            "5\n"
          ]
        }
      ],
      "source": [
        "n = int(input('Enter Number of Terms'))\n",
        "a = 0\n",
        "b = 1\n",
        "\n",
        "for i in range(n+1):\n",
        "    print(a)\n",
        "    c = a + b\n",
        "    a = b\n",
        "    b = c"
      ]
    },
    {
      "cell_type": "markdown",
      "metadata": {
        "id": "pUU2HLsZLjix"
      },
      "source": [
        "factors of a number"
      ]
    },
    {
      "cell_type": "code",
      "execution_count": null,
      "metadata": {
        "colab": {
          "base_uri": "https://localhost:8080/"
        },
        "id": "7bhJceyzLmS-",
        "outputId": "04dc99c0-cd80-46ea-adc5-0a3716c10f3f"
      },
      "outputs": [
        {
          "name": "stdout",
          "output_type": "stream",
          "text": [
            "enter a number12\n",
            "1\n",
            "2\n",
            "3\n",
            "4\n",
            "6\n",
            "12\n"
          ]
        }
      ],
      "source": [
        "n=int(input(\"enter a number\"))\n",
        "for i in range (1,n+1):\n",
        "  if(n%i==0):\n",
        "    print(i)\n"
      ]
    },
    {
      "cell_type": "markdown",
      "metadata": {
        "id": "GyZ6hpTiMw_I"
      },
      "source": [
        "check it is prime number or not"
      ]
    },
    {
      "cell_type": "code",
      "execution_count": null,
      "metadata": {
        "colab": {
          "base_uri": "https://localhost:8080/"
        },
        "id": "52-zM0AXM1iE",
        "outputId": "cf601a67-df56-41c2-aa79-3ebffd515275"
      },
      "outputs": [
        {
          "name": "stdout",
          "output_type": "stream",
          "text": [
            "enter a number3\n",
            "prime number\n"
          ]
        }
      ],
      "source": [
        "n=int(input(\"enter a number\"))\n",
        "count=0\n",
        "for i in range (1,n+1):\n",
        "  if n%i==0:\n",
        "    count=count+1\n",
        "if count==2:\n",
        "  print(\"prime number\")\n",
        "else:\n",
        "  print(\"not a prime number\")"
      ]
    },
    {
      "cell_type": "markdown",
      "metadata": {
        "id": "qF1g2YOiSJSJ"
      },
      "source": [
        "nested loop"
      ]
    },
    {
      "cell_type": "code",
      "execution_count": null,
      "metadata": {
        "colab": {
          "base_uri": "https://localhost:8080/"
        },
        "id": "2GDGbJTnTlAi",
        "outputId": "96a6d82a-68dc-47a8-ecc1-1296fde0e6ce"
      },
      "outputs": [
        {
          "name": "stdout",
          "output_type": "stream",
          "text": [
            "0 0\n",
            "0 1\n",
            "0 2\n",
            "0 3\n",
            "0 4\n",
            "1 0\n",
            "1 1\n",
            "1 2\n",
            "1 3\n",
            "1 4\n",
            "2 0\n",
            "2 1\n",
            "2 2\n",
            "2 3\n",
            "2 4\n",
            "3 0\n",
            "3 1\n",
            "3 2\n",
            "3 3\n",
            "3 4\n",
            "4 0\n",
            "4 1\n",
            "4 2\n",
            "4 3\n",
            "4 4\n"
          ]
        }
      ],
      "source": [
        "for i in range(0,5):\n",
        "  for  j in range(0,5):\n",
        "    print(i,j)\n"
      ]
    },
    {
      "cell_type": "code",
      "execution_count": null,
      "metadata": {
        "colab": {
          "base_uri": "https://localhost:8080/"
        },
        "id": "1fOP6OcZOc3y",
        "outputId": "0bc93040-264f-4e5e-a631-cf613487d38d"
      },
      "outputs": [
        {
          "name": "stdout",
          "output_type": "stream",
          "text": [
            "*\n",
            "**\n",
            "***\n",
            "****\n",
            "*****\n"
          ]
        }
      ],
      "source": [
        "for i in range(0,5):\n",
        "  for  j in range(0,5):\n",
        "    if i>=j:\n",
        "     print(\"*\",end=\"\")\n",
        "  print(\"\")"
      ]
    },
    {
      "cell_type": "markdown",
      "metadata": {
        "id": "ecJXot11kAg1"
      },
      "source": [
        "printing prime numberws from 1 to 100"
      ]
    },
    {
      "cell_type": "code",
      "execution_count": 5,
      "metadata": {
        "id": "Fp6Wl403SP-8"
      },
      "outputs": [],
      "source": [
        "for n in range(1,100+1):\n",
        " count = 0\n",
        " for i in range(1,n+1):\n",
        "  if n%i == 0:\n",
        "   count += 1\n",
        "if count == 2:\n",
        "  print(n)"
      ]
    },
    {
      "cell_type": "markdown",
      "source": [
        "printing patterns"
      ],
      "metadata": {
        "id": "z5u0_262Ag92"
      }
    },
    {
      "cell_type": "code",
      "source": [
        "for j in range(0,6):\n",
        " for i in range(0,6):\n",
        "  if j>=i:\n",
        "   print(\"*\",end=\"\")\n",
        " print(\"\")"
      ],
      "metadata": {
        "colab": {
          "base_uri": "https://localhost:8080/"
        },
        "id": "2lx3znxDAkWv",
        "outputId": "eaaecbfa-a712-46c9-90d4-4b4dcb3bfe90"
      },
      "execution_count": 18,
      "outputs": [
        {
          "output_type": "stream",
          "name": "stdout",
          "text": [
            "*\n",
            "**\n",
            "***\n",
            "****\n",
            "*****\n",
            "******\n"
          ]
        }
      ]
    },
    {
      "cell_type": "markdown",
      "source": [
        "match case(printing a day)"
      ],
      "metadata": {
        "id": "6LNNP2ODDget"
      }
    },
    {
      "cell_type": "code",
      "source": [
        "day=int(input(\"enter a day\"))\n",
        "match day:\n",
        "  case 1:\n",
        "    print(\"monday\")\n",
        "  case 2:\n",
        "    print(\"tuesday\")\n",
        "  case 3:\n",
        "    print(\"wednesday\")\n",
        "  case 4:\n",
        "    print(\"thrusday\")\n",
        "  case 5:\n",
        "    print(\"friday\")\n",
        "  case 6:\n",
        "    print(\"saturday\")\n",
        "  case _:\n",
        "    print(\"holiday\")"
      ],
      "metadata": {
        "colab": {
          "base_uri": "https://localhost:8080/"
        },
        "id": "HpYBsJSqDeC8",
        "outputId": "30aafbda-5da9-414a-a930-66f4c4313afb"
      },
      "execution_count": 23,
      "outputs": [
        {
          "output_type": "stream",
          "name": "stdout",
          "text": [
            "enter a day6\n",
            "saturday\n"
          ]
        }
      ]
    }
  ],
  "metadata": {
    "colab": {
      "provenance": [],
      "authorship_tag": "ABX9TyPGv5UIB2LymJeWV6Lb4MBM",
      "include_colab_link": true
    },
    "kernelspec": {
      "display_name": "Python 3",
      "name": "python3"
    },
    "language_info": {
      "name": "python"
    }
  },
  "nbformat": 4,
  "nbformat_minor": 0
}